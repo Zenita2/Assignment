{
 "cells": [
  {
   "cell_type": "markdown",
   "id": "bd76296b",
   "metadata": {},
   "source": [
    "<h2>Part 1: extracting all direct quotes<h2>"
   ]
  },
  {
   "cell_type": "code",
   "execution_count": 1,
   "id": "62c4317f",
   "metadata": {},
   "outputs": [],
   "source": [
    "#import modules\n",
    "import spacy\n",
    "import re\n",
    "nlp = spacy.load(\"en_core_web_sm\")"
   ]
  },
  {
   "cell_type": "code",
   "execution_count": 2,
   "id": "f8096224",
   "metadata": {},
   "outputs": [
    {
     "data": {
      "text/plain": [
       "['texts/5c1452701e67d78e276ee126.txt',\n",
       " 'texts/5c146e42795bd2fcce2ea8e5.txt',\n",
       " 'texts/5c149ffc1e67d78e276fbd44.txt',\n",
       " 'texts/5c15488f1e67d78e277161d7.txt',\n",
       " 'texts/5c1548a31e67d78e2771624f.txt']"
      ]
     },
     "execution_count": 2,
     "metadata": {},
     "output_type": "execute_result"
    }
   ],
   "source": [
    "#save file paths\n",
    "import os\n",
    "fileids = os.listdir(\"texts\")\n",
    "fileids = [(\"texts/\" + fileid) for fileid in fileids]\n",
    "fileids"
   ]
  },
  {
   "cell_type": "code",
   "execution_count": 3,
   "id": "f710756d",
   "metadata": {},
   "outputs": [],
   "source": [
    "#open and merge files\n",
    "textlist = []\n",
    "for fileid in fileids:\n",
    "    with open (fileid, mode =\"r\", encoding = \"utf-8\") as f:\n",
    "        text = f.read()\n",
    "        textlist.append(text)"
   ]
  },
  {
   "cell_type": "code",
   "execution_count": 4,
   "id": "e570b571",
   "metadata": {
    "collapsed": true
   },
   "outputs": [
    {
     "data": {
      "text/plain": [
       "[\"The question was common for mayoral candidates to hear back in the October municipal election: what do you think of ride-hailing and should it come to Metro Vancouver?. \\n “I was clear when I was mayor – I don’t support Uber at all,” then-Surrey mayoral candidate Doug McCallum responded at one debate. \\n It was an odd thing to say: McCallum’s last term as Surrey mayor ended in 2005, while Uber as a company began in 2009, briefly entering the Vancouver market only in 2012. There was no Uber not to support in 2005. \\n Rival candidate Bruce Hayne joked in his turn to answer the question, “It was a twinkle in some engineer’s eye some years ago.”. \\n McCallum didn’t correct himself. \\n But the strange remark may have foreshadowed a growing number of curious statements from the returning mayor of B.C.’s second-largest, rapidly growing city, which is wrestling with big changes after his come-from-behind election win. \\n CTV News has analyzed about three weeks' worth of McCallum's speeches, statements at public meetings, and press conferences to find the mayor’s claims, in some cases, don’t stand up to inspection. \\n Sometimes, his claims seem to further his political agenda, such as exaggerating a drop in the children participating in ice sports, which was part of his argument to cut the previous administration's projects, including a $44.5 million Cloverdale Sport and Ice Complex. \\n A claim the city's debt is higher than city reports say it is could support a total of $135 million in proposed cuts to the previous administration's projects, including the $58 million Grandview Heights Community Centre and Library. \\n A claim the costs of building a SkyTrain extension to Langley are lower than TransLink says they are could make one of McCallum's two big-ticket promises, SkyTrain and a municipal police force, more attractive. \\n But other times, the claims, such as what he said about Uber, do not seem to advance any particular political agenda. To make our list, the claims had to be on camera, at a public meeting or addressed to the press, and not be corrected as a one-off error. \\n Some voters say he is already losing their trust. \\n “Mayor McCallum’s statements vary greatly from truth,” Cindy Dalglish told Surrey’s councillors at Tuesday’s finance committee meeting. \\n But observers say there may be a method to McCallum’s messages. \\n “There’s a tried-and-true method in Canadian politics: after an election a new government takes office and says, ‘Oh my gosh, the cupboards are bare.’ Or, ‘We’re much deeper in debt than I thought we were, and now I’ve seen the real books.' So I think there’s an element of that kind of gamesmanship going on,” University of the Fraser Valley political scientist Hamish Telford said. \\n “Then there’s the fact that McCallum has been out of office for quite some time, thinking he knew the job, but some things have changed,” Telford said. \\n McCallum didn’t respond to interview requests on these topics through City of Surrey staff, so CTV News caught up with him at Thursday’s Mayors' Council meeting. \\n The mayor didn’t respond directly to questions about whether there’s a pattern to advancing these claims, but CTV News has included the response he did give in each section below. \\n . \\n Citing a nonexistent TransLink study. \\n “If you take Fraser Highway SkyTrain and if we’re building that seven days a week around the clock, we probably can save, and this is TransLink’s figures, we can probably save $2-300 million,” McCallum told the Mayors Council on Nov. 15. \\n McCallum’s speech to fellow municipal leaders was a crucial part of getting the region on board with his plan to switch from the Newton-Surrey-Guildford LRT to a SkyTrain extension to Langley. \\n Mayors were understandably concerned about the cost of the move to a Langley SkyTrain, which a TransLink study in 2017 concluded would cost between $2.6 billion and $2.9 billion – almost twice the $1.65 billion cost of the LRT line. \\n McCallum claimed in that speech the cost could be reduced if the construction was done 24/7, which may be possible, though it could lead to substantial disruptions along the route for the public. \\n But the mayor claimed a study had been done to confirm this by TransLink. The agency told CTV News it is has not done any such study. \\n “TransLink has not conducted any detailed study on potential construction methods for a SkyTrain route from Surrey to Langley. The most recent cost estimate (2017 Hatch report) did not consider construction schedules,” a spokesperson said. \\n On Dec. 13, the mayor brought up the 24/7 construction plan up again while speaking to the media. \\n “We’ve also said in the past if we let large construction jobs build seven days a week, around the clock, we can reduce costs considerably,” he said. When told of TransLink’s statement they had never done a study, he said, “I’ve never said there’s a study.”. \\n Tap the image above to read more about the cost of a SkyTrain line, and who could be on the hook for the switch from LRT. (Photo: City of Surrey). \\n . \\n SkyTrain vs. Evergreen Line: inaccurate comparisons. \\n “The Evergreen Line that was recently built, same distance, elevated all the way, actually goes through a tunnel, completed a year and a half ago, for only $1.4 billion,” McCallum told reporters on Oct. 23. \\n It’s true the Evergreen Line was built for $1.41 billion, opening in 2016. Its length is 10.9 kilometres, and does include a tunnel. But the Evergreen Line is about two-thirds the length of a line that would run from King George Station along Fraser Highway to Langley City. The SkyTrain extension would be about 16 kilometres long. \\n McCallum has said the Fraser Highway extension could be built affordably for the funding envelope that had already been approved for the LRT, at $1.65 billion. That's a claim B.C.'s premier didn't buy. \\n “I care not about the technology. If Surrey wants to change to SkyTrain, that’s fine, but they’re going to get half as far as they would have with LRT,” John Horgan told reporters on Thursday. \\n TransLink staff are currently doing design and development work on the SkyTrain extension. TransLink CEO Kevin Desmond said Thursday one of McCallum's suggestions, to find places where the line could not be elevated, could save money. \\n While the agency doesn’t have a final cost estimate for the SkyTrain line, the Mayors' Council has heard it can’t be built for the $1.6 billion left after $56 million was spent on pre-construction and design for the LRT. \\n The Mayors' Council heard Thursday that TransLink was at least $1 billion short for the cost of the full line, and it may have to terminate in Fleetwood or Clayton Heights. \\n But coming up with lower lengths, and therefore lower costs, could be part of the mayor’s attempts to make the SkyTrain extension seem more attractive, said Telford. \\n “I think he’s trying to present the best possible case that he can fulfill his promises without too much financial pain, and to put it generously, he’s reading the spreadsheets optimistically,” Telford said. \\n Click the image above to view details of the plan discused at the Dec. 13 Mayors' Council meeting. \\n . \\n Overstating Surrey's debt. \\n A press release, issued just after midnight on Nov. 27, McCallum expressed serious concern about the Surrey’s debt. \\n “When the books were shown to me, I was deeply dismayed and shaken to the core to see how much debt the City of Surrey has been carrying,” he was quoted as saying in the press release. “The fact that the debt load is at $514 million is simply untenable and frankly irresponsible.”. \\n City financial records from December 2017 indicated the debt load was then $267 million, or just over half that amount. And in the city’s proposed budget, issued under McCallum’s council for a Dec. 11, 2018 meeting, the “previously approved” internal and external debt is $316 million – only about 60 per cent of the mayor’s claim. \\n McCallum’s staff later said the $514 million figure he was referring to was the debt load the city is expected to take on over five years of building projects, which by definition is money that hasn't been spent yet. \\n In the proposed budget, the $514 million figure includes “previously approved” debt and $198 million of “internal debt approved for the 2018-2022 General Capital Program.”. \\n When asked on Dec. 13 whether he was overstating the city’s debt, McCallum said, “The city’s debt as far as the City of Surrey is $514 million, that’s in the financial statements, in the public documents that have gone out. I’ve never misstated that debt. So that’s there. We’ve passed a draft budget. It takes into consideration the very large debt that we need to bring down.”. \\n McCallum’s council narrowly approved a plan to slash $136 million that hasn’t been spent yet on proposed capital projects, including upgrades to RCMP facilities, a part, the Grandview Heights Library and Community Centre and a new sport and ice complex in Cloverdale. \\n . \\n Overstating the number of Surrey's rinks. \\n One of the projects McCallum's Safe Surrey council plans to pull the plug on is the $44.5 million Cloverdale Sport and Ice Complex. In a media availability shortly after the proposed budget was made public, McCallum was upbeat about the rinks the city still had for its citizens. \\n “We have one ice rink in South Surrey, we have one in Cloverdale, we have three in Fleetwood which is only 10 minutes from Cloverdale. We have one in Newton, and we have two in our city centre. We have three opening brand new in the middle of next year in Bridgeview, by the Patullo Bridge. We have the three new ones coming along with the current ones,” he said. \\n The new Bridgeview complex will indeed have three new rinks. But the project is slated to replace the North Surrey Arena, which has two rinks, according to the city, and that rink is slated to close shortly after the Bridgeview complex opens. It may be possible to keep both rinks open, but city staff confirmed there are no plans to do this at this point. \\n “We found that a little bit misleading, they were talking about all the new arenas, but in reality we won’t be gaining three. Two of the arenas will be taken away. You’re only getting one new rink,” Cloverdale Minor Hockey Association president Marty Jones told CTV News. \\n Tap the image above to read the city's plans for the Cloverdale Sport and Ice Complex, initially expected to open in 2020. \\n . \\n Claims about the Cloverdale complex costs. \\n McCallum also claimed of the Cloverdale Sport and Ice Complex, “The land underneath is very unstable. Our engineering department says we would not be able to build this on unstable ground unless we used pile driving techniques to build it. Pile driving if anyone knows construction is very expensive construction. Originally it was planned to be $45 million, but that would increase considerably if we had to pile drive it.”. \\n In fact, the original cost of the Cloverdale complex was $35 million, city documents say. In January 2018, reports indicated there were problems with the soil and the estimated cost was hiked to $44.5 million. \\n Attempts by CTV News to confirm with the city’s engineering department that there were even more problems with the soil on top of the previously discovered issues, which could increase costs even further, were stymied as city staff said they could not talk during the budget process. \\n In the city’s preliminary budget in December, the cost of the arena is still listed at $44.5 million. \\n The above chart from the City of Surrey suggests a dip in registration for youth ice sports. \\n . \\n Exaggerating a drop in youth ice sports. \\n The mayor also claimed that the enrolment of young people in ice sports was dropping – another justification for cutting the construction of the Cloverdale complex. \\n “We have in the last eight to nine years had a declining use of ice for hockey. Each year it’s declining in participation and usage. We have a chart of that to show you,” the mayor told reporters. \\n CTV News has analyzed the chart, which seemed to show a decline in enrolment of around 50 per cent. But the axes of the chart exaggerated this drop. When the axes were changed, the decline the numbers represented appeared closer to 15 per cent. \\n There was another problem. \\n For every year before 2018-19, the chart reflected the number of children playing ice sports for the whole year. But for the 2018-19 year, staff used the figures for October. The result, according to a survey of listed clubs by CTV News, is 352 missing children. \\n When those members are included in the chart, it’s clear that there are more children enrolled in 2018-19 than the past two years – and the alleged drop is actually an increase. \\n On top of that, the chart did not include bantam or midget teams – another 100 children – anyone in the city’s ice lessons, which includes 17,040 registrations, or anyone on the waitlist, whose estimates run from the city claim of 974 to the city’s Ice Allocation Committee estimate of 1,400. \\n “I know that our arenas are used more than what’s listed in that graph,” said Cindy Secord, who sits on the Ice Allocation Committee. “That graph should go in the other direction.”. \\n Secord told CTV News that two minor ice hockey leagues have spent $450,000 buying 1,000 hours of ice time in neighbouring communities like Richmond or Delta. \\n “We could not supply one sheet of ice for them for any games all year,” she said. “We’re turning away potential users because there’s nothing there.”. \\n Surrey staff explained the numbers this way: “There are many possible reasons why the 2018 numbers appear low which may include waitlist accommodation, adding teaching stations, waitlist management. The numbers are being run from our stored data is not being modified.”. \\n Several of the clubs are now writing Surrey City Council as it proceeds to its final approval of its budget on Monday night, asking the city to correct its figures. \\n Viewing this article on our beta mobile site? Click here for a compatible version with embedded elements.\",\n",
       " 'A Superior Court of Ontario judge chastised JAZZ.FM91 on Friday morning, saying the not-for-profit Toronto radio station had been “playing games” to prevent a dissident shareholder group from lobbying members for changes in the organization’s board of directors. \\n Justice Sean Dunphy directed the station to provide the e-mail addresses of its approximately 2,200 member-donors to Brian Hemming, a Toronto-investment relations consultant and founder of Save Jazz FM. The group was founded in the summer after an eruption of discontent among supporters. \\n The station had provided Mr. Hemming with names and addresses of members, but refused to include e-mail addresses or phone numbers, citing privacy concerns. Mr. Hemming argued that the move disadvantaged his group in its dispute, noting the station’s board frequently lobbies its members through e-mails. \\n Story continues below advertisement. \\n Justice Dunphy said the station’s defiant stand “was clearly adopted to frustrate the applicants and not – as suggested – out of concern to maintain privacy.” Still, he denied Mr. Hemming’s request for phone numbers, characterizing that method of contact as intrusive. \\n “This has degenerated into an acrimonious fight,” he wrote in his decision. “It needn’t be so adversarial.”. \\n A statement e-mailed to The Globe by Reagan Ruslim, who joined the board last month, said “JAZZ.FM91 will respect the order of the Court.” When asked for comment about the judge’s criticisms, he replied the station would “have a further statement next week. Stay tuned!”. \\n During an interview outside the small courtroom, which had been packed with supporters, Mr. Hemming said he and his group were “very pleased with the decision. This really just levels the playing field and gives us an opportunity to talk to members about what our proposals are – and that’s all we ever wanted.”. \\n In a statement issued later, Mr. Hemming said his group intended to use the e-mail addresses to press for a special meeting of members. “The purpose of the meeting would be to vote out the incumbent board and then vote in a new board of directors proposed by Save JAZZ.FM91.”. \\n JAZZ.FM91 has been in turmoil since the spring, when its president and CEO, Ross Porter, departed in the wake of an investigation into allegations of workplace bullying, harassment, and sexual harassment. (In a statement to the Globe at the time, Mr. Porter denied his departure was connected to the investigation. When he stepped down, he was given the title of president emeritus and he retained his position as host of his own Saturday morning radio program.). \\n As news of the allegations began to surface, members complained about what they said was a lack of transparency. Their discontent escalated after the station laid off a number of popular on-air personalities in June, leaving many time slots without a host. At the annual general meeting in late August, dozens of members turned out to voice anger and disappointment with the station’s board and management. \\n Story continues below advertisement. \\n Story continues below advertisement. \\n The disarray appears to be affecting the station’s financial picture: The most recent fundraising drive, held last month, raised only $186,000 of its $350,000 goal. \\n The fight over e-mail addresses will cost the station approximately $50,000, after the judge ordered it to pay $20,000 of Mr. Hemming’s estimated $50,000 costs in addition to its own $30,000 of incurred costs. Though Justice Dunphy said he was loath to penalize a not-for-profit, he believed the station had acted improperly by “tossing roadblocks in the way of democracy,” and “it would be sending the wrong message” to not charge it some share of Mr. Hemming’s costs. \\n One former director indicated on Friday that he would be pleased to return as part of a proposed overhaul. Joseph Manzoli told the Globe he left the board last winter, after serving three years, “because of the lack of good governance and transparency. I’m coming back because change is in sight, and if I can assist in bringing that positive change, I’m in with both feet.”',\n",
       " 'Security experts believe Thursday’s emailed bomb threats can be traced back to the same group responsible for the “sextortion” scam this past October. \\n While investigators still do not know who is responsible, Cisco System’s Talos cybersecurity unit said in a statement on Friday that the threats came from the same group of fraudsters responsible for sending emails a few months back that claimed to have videos showing the recipients having sex. \\n READ MORE: Sextortion scam uses old passwords to extort money from victims. \\n “Cisco Talos discovered that this campaign is actually an evolution of sextortion and extortion attacks that we reported on in October. The claims in the emails we’ve seen from this actor are completely false, yet they have caused untold amounts of damage as organizations have evacuated buildings and called upon law enforcement to investigate,” the security firm wrote in its statement. \\n In the “sextortion” case, the senders threatened to release these videos, recorded through the webcams on recipients’ computers, unless they were paid a ransom. \\n Jason Schultz, technical researcher at Talos, stated in the company’s blog post that some of the bomb threats that took place this week came from the same addresses used in those campaigns. \\n WATCH: Bomb threats demanding Bitcoin investigated across Canada, U.S. \\n “Multiple IPs involved in sending these bomb threats also sent various types of sextortion email that we saw in the previous campaign. In those cases, the attackers sent out emails claiming to have compromising videos of the victim and (threatened to) release them to the public unless the attacker (received) a bitcoin payment,” the post read. \\n According to the post, the bomb threat had morphed once again by late Thursday, as the attackers now threatened to throw acid on the victims. \\n Director, security response at cybersecurity firm Symantec, Kevin Haley, agreed with this finding. \\n WATCH: Authorities outline ‘sextortion’ string involving inmates, military service members. \\n “We believe it’s the same group,” he confirmed. \\n To determine this, Haley explained that Symantec looked at where the threats where coming from, the characteristics of the emails and whether or not the same spam servers were being used in this case as were used in October. \\n “We’re looking for similarities in the attack and when you see those similarities you pretty much know it’s the same group,” he said. \\n According to Haley, the bomb threats were an “innovation” on October’s “sextortion” scam, and the threat will likely continue to evolve until the perpetrators stumble upon one that sticks. \\n WATCH: Burnaby RCMP warns of rise in ‘sextortion’ cases. \\n “This game is all about getting a certain percentage of people to respond,” he said. \\n “The sextortion spam is not new. What’s new is they had a new twist that they thought could increase the amount of money they could make,” Haley explained. \\n “While this caused chaos, it doesn’t look like it made them any money so they’ve moved on.”. \\n He states however, that the increased frequency of these kinds of threats has less to do with access to technology and more to do with the option to demand ransom payments in bitcoin. \\n “What’s different here is that there is an easy way to exploit people, and that’s cryptocurrency. It’s fast, it’s virtual and it’s almost risk-free for the bad guys to do that,” he said. \\n READ MORE: ‘It becomes a nightmare’: the rise of the viral bomb threat and how it makes the job of police harder. \\n Haley said that though the attackers didn’t make any money this time, we’re likely to see more of this style of attack containing different threats until one prompts enough people to pay the ransom. And when it does, he warns that it’s going to “explode.”. \\n “They’re going to continue to throw things up against the wall and see what sticks until, eventually, when they hit at something that motivates people to actually pay that ransom, we’ll see that explode,” Haley said. “We’ll see hundreds of thousands, millions of these emails. Everybody will start getting them in their mailbox.”',\n",
       " 'Ford and Trudeau trade shots on climate change plans, Dec. 8 We are now in crisis mode with the environment. Our government’s pathetic attempt at reducing global warming has not been of any use. \\n “Justin Trudeau and the Liberals should pay attention to the riots happening in France. The people are revolting against carbon taxes, open immigration and the arrogance of the progressive socialist government,” Earl Hyde of Brantford writes. ( JEAN-PHILIPPE KSIAZEK / AFP/GETTY IMAGES ). \\n Punishing people with taxes because they need to get around or want to keep themselves warm in the winter is no solution at all. Good riddance to the cap and trade — or “pay up and pollute all you want” — initiative. We need real scientific solutions, such as forcing builders to make homes and buildings more energy efficient and sustainable. We need clean energy for transportation and home heating. Also, we must protect and expand our green spaces and plant more trees, which absorb CO2. There are solutions out there. It just takes some genuine government involvement to get things moving in that direction. If the oil companies are holding us back, they must be ignored. The clean energy sector can create jobs, too. The planet and our very lives depend on it. \\n Article Continued Below. \\n Jane White, Scarborough Canada, which contributes less that 1.6 per cent of overall greenhouse gases, is being forced to pay carbon taxes while China opens a new coal-fired generating plant every week. If you support the climate change theory, you should stop driving a car, stop using carbon-based electricity, and stop using anything that is made of carbon. If you support open immigration, you should welcome and support an immigrant in your home. The carbon tax and open immigration should be voluntary and those who support it should pay. The progressives are hypocrites and never walk the talk. When we have finally had enough, the yellow vests in Canada will stand up to Trudeau and his politically correct progressive elites. \\n Earl G. Hyde, Brantford The Dunkirk analogy, far from being disrespectful, is entirely appropriate in the context of the greatest threat our planet is experiencing. Unless ordinary people like us rally against the climate change deniers in both the federal and provincial Conservative parties, we are marching toward climate catastrophe. \\n Article Continued Below. \\n To paraphrase a well-known expression, “While Conservatives fiddle, the planet burns!” Bravo to our Guelph MPP. Maggie Laidlaw, Guelph This “goal post” talk reflects Ford’s view that this is all some sort of political game, when it is actually about the preservation of Earth and life itself. Science tells us that the goal posts of catastrophic climate change have already been cemented in place via human greed, and the politicians who prioritize corporate profit over public good keep us hurtling toward these posts at breakneck speed. If you want to talk about unfair, try living in a world where someone as ignorant as Ford can somehow rise to political power. Joel Maziarski, Toronto Climate fears are real, so oilsands must close, Walkom, Dec. 5 Thank you to Thomas Walkom for this thoughtful column. There is a growing movement of young people calling for climate action and environmental justice, through school strikes, sit-ins and a recent lawsuit in Quebec against the federal government’s failure to take meaningful action. Parents and teachers want the best for our children. But we are busy and anxious providing what they need to thrive now, so it’s hard to look to the future at something over which we seem to have so little control. As a new parent, there is nothing I want more than for my daughter to grow up in a stable climate, not only for herself. And I don’t want her to have the weight of knowing that children in other places are facing hunger, flooding or displacement because we didn’t act. If we come together in solidarity with the youth, we have power. In Canada, we can lead the way to the rapid and intense climate action the planet needs. No new fossil-fuel infrastructure. We need high and rising carbon taxes returned to the taxpayers and intense investment in green infrastructure, jobs and social justice infrastructure. Rebecca Weigand, TorontoFrance’s yellow vests and the tarsands of Alberta, Salutin, Dec. 7 Rick Salutin is right to mention the urgent needs of both saving the planet from ruinous climate change and putting the next meal on the table. Although a carbon tax can help with the former it does nothing for the latter, as the yellow vests are saying so clearly. But we can address both needs by returning the proceeds of the carbon tax to households to help them pay for the transition to a low-carbon economy. British Columbia did this 10 years ago. The federal Liberals have finally seen the light. Even U.S. Republicans and Democrats have seen it, with the introduction of the bipartisan energy innovation and carbon dividend act. President Macron: pay attention. Doug Pritchard, Toronto. \\n Read more about:',\n",
       " 'Looking for a job, kid? Try a store, a bank, a hospital or an IT company. \\n The retail industry, long a place for people to take their first step on the employment ladder, is still a solid place to start. According to the Civic Action study, the retail sector in Ontario employed 226,000 youth in 2017. ( Andrew Francis Wallace / Toronto Star File Photo ). \\n Those sectors are the best bets for youth looking for an entry-level position, according to a study which is being released Monday by Civic Action. And employers in all those industries are looking for some of the same abilities: most sought-after are skills such as communication and empathy — not just the latest technical knowledge or courses. “Some of those ‘soft’ skills are in short supply, but they’re what employers are looking for,” said Sevaun Palvetzian, CEO of Civic Action, a non-partisan civic engagement group. \\n Article Continued Below. \\n According to the most recent numbers from Statistics Canada, the unemployment rate of young Canadians is more than double the national average. In November, the national unemployment rate fell to 5.6 per cent (from 5.8 per cent in October). For Canadians between the ages of 15 and 24, the rate was 10.8 per cent (down from 11.0). There are more than 860,000 youth across Canada who aren’t working, studying or in some form of training, the Civic Action study found. That’s not just a problem for the youth who are directly affected, but for society at large, argued Palvetzian. And it can be measured in dollars and cents, not just moral outrage. “There’s a societal cost to having someone remain unemployed,” said Palvetzian. The study estimated that if one of those young people stays unemployed for their entire life, it would cost Canadian society up to $1 million. “There are health-care costs. There are welfare costs. There can be criminal justice costs,” Palvetzian said. \\n Civic Action also has an online “road map” for employers looking to beef up their youth hiring and suggests companies “should move to skills-based hiring,” as opposed to “practices that prioritize … credentials and experience.” The retail industry, long a place for people to take their first step on the employment ladder, is still a solid place to start. According to the Civic Action study — which used research from Burning Glass Technologies and LinkedIn — the retail industry is the biggest source of online postings for entry-level jobs. In 2017, the retail sector in Ontario employed 226,000 youth, according to the study. \\n Article Continued Below. \\n The Civic Action study also used online data to come up with the skills employers are looking for. Top of the list? Communication. While dealing with customers at a shop or bank (or patients in a hospital) are obvious situations where communication is vital, it’s also crucial in Canada’s burgeoning tech sector. The stereotype of a socially awkward IT professional stuck in a back office somewhere no longer holds true — if it ever did. One big reason strong communication skills are important is they won’t become outdated no matter how much technology changes, Palvetzian said. “These are things that are the least susceptible to technological disruption,” Palvetzian said. Next year, the information and communication technology sector will have 182,000 job openings across the country, with more than 40 per cent of those openings in Ontario.']"
      ]
     },
     "execution_count": 4,
     "metadata": {},
     "output_type": "execute_result"
    }
   ],
   "source": [
    "textlist"
   ]
  },
  {
   "cell_type": "code",
   "execution_count": 5,
   "id": "cb9f1d42",
   "metadata": {},
   "outputs": [],
   "source": [
    "#standardize quotation marks\n",
    "pipeline = [('“', '\"'), ('´´', '\"'), ('”', '\"'), ('’’', '\"')]\n",
    "for old, new in pipeline:\n",
    "    textlist = [(x.replace(old, new)) for x in textlist]"
   ]
  },
  {
   "cell_type": "code",
   "execution_count": 7,
   "id": "13a764a2",
   "metadata": {},
   "outputs": [],
   "source": [
    "#remove html- changed to list comprehension\n",
    "textlist = [(x.replace(\"\\n\", \"\")) for x in textlist]\n",
    "textlist = [(x.replace(\"\\'\", \"’\")) for x in textlist]"
   ]
  },
  {
   "cell_type": "code",
   "execution_count": 8,
   "id": "5081fd22",
   "metadata": {
    "collapsed": true
   },
   "outputs": [
    {
     "data": {
      "text/plain": [
       "['The question was common for mayoral candidates to hear back in the October municipal election: what do you think of ride-hailing and should it come to Metro Vancouver?.  \"I was clear when I was mayor – I don’t support Uber at all,\" then-Surrey mayoral candidate Doug McCallum responded at one debate.  It was an odd thing to say: McCallum’s last term as Surrey mayor ended in 2005, while Uber as a company began in 2009, briefly entering the Vancouver market only in 2012. There was no Uber not to support in 2005.  Rival candidate Bruce Hayne joked in his turn to answer the question, \"It was a twinkle in some engineer’s eye some years ago.\".  McCallum didn’t correct himself.  But the strange remark may have foreshadowed a growing number of curious statements from the returning mayor of B.C.’s second-largest, rapidly growing city, which is wrestling with big changes after his come-from-behind election win.  CTV News has analyzed about three weeks’ worth of McCallum’s speeches, statements at public meetings, and press conferences to find the mayor’s claims, in some cases, don’t stand up to inspection.  Sometimes, his claims seem to further his political agenda, such as exaggerating a drop in the children participating in ice sports, which was part of his argument to cut the previous administration’s projects, including a $44.5 million Cloverdale Sport and Ice Complex.  A claim the city’s debt is higher than city reports say it is could support a total of $135 million in proposed cuts to the previous administration’s projects, including the $58 million Grandview Heights Community Centre and Library.  A claim the costs of building a SkyTrain extension to Langley are lower than TransLink says they are could make one of McCallum’s two big-ticket promises, SkyTrain and a municipal police force, more attractive.  But other times, the claims, such as what he said about Uber, do not seem to advance any particular political agenda. To make our list, the claims had to be on camera, at a public meeting or addressed to the press, and not be corrected as a one-off error.  Some voters say he is already losing their trust.  \"Mayor McCallum’s statements vary greatly from truth,\" Cindy Dalglish told Surrey’s councillors at Tuesday’s finance committee meeting.  But observers say there may be a method to McCallum’s messages.  \"There’s a tried-and-true method in Canadian politics: after an election a new government takes office and says, ‘Oh my gosh, the cupboards are bare.’ Or, ‘We’re much deeper in debt than I thought we were, and now I’ve seen the real books.’ So I think there’s an element of that kind of gamesmanship going on,\" University of the Fraser Valley political scientist Hamish Telford said.  \"Then there’s the fact that McCallum has been out of office for quite some time, thinking he knew the job, but some things have changed,\" Telford said.  McCallum didn’t respond to interview requests on these topics through City of Surrey staff, so CTV News caught up with him at Thursday’s Mayors’ Council meeting.  The mayor didn’t respond directly to questions about whether there’s a pattern to advancing these claims, but CTV News has included the response he did give in each section below.  .  Citing a nonexistent TransLink study.  \"If you take Fraser Highway SkyTrain and if we’re building that seven days a week around the clock, we probably can save, and this is TransLink’s figures, we can probably save $2-300 million,\" McCallum told the Mayors Council on Nov. 15.  McCallum’s speech to fellow municipal leaders was a crucial part of getting the region on board with his plan to switch from the Newton-Surrey-Guildford LRT to a SkyTrain extension to Langley.  Mayors were understandably concerned about the cost of the move to a Langley SkyTrain, which a TransLink study in 2017 concluded would cost between $2.6 billion and $2.9 billion – almost twice the $1.65 billion cost of the LRT line.  McCallum claimed in that speech the cost could be reduced if the construction was done 24/7, which may be possible, though it could lead to substantial disruptions along the route for the public.  But the mayor claimed a study had been done to confirm this by TransLink. The agency told CTV News it is has not done any such study.  \"TransLink has not conducted any detailed study on potential construction methods for a SkyTrain route from Surrey to Langley. The most recent cost estimate (2017 Hatch report) did not consider construction schedules,\" a spokesperson said.  On Dec. 13, the mayor brought up the 24/7 construction plan up again while speaking to the media.  \"We’ve also said in the past if we let large construction jobs build seven days a week, around the clock, we can reduce costs considerably,\" he said. When told of TransLink’s statement they had never done a study, he said, \"I’ve never said there’s a study.\".  Tap the image above to read more about the cost of a SkyTrain line, and who could be on the hook for the switch from LRT. (Photo: City of Surrey).  .  SkyTrain vs. Evergreen Line: inaccurate comparisons.  \"The Evergreen Line that was recently built, same distance, elevated all the way, actually goes through a tunnel, completed a year and a half ago, for only $1.4 billion,\" McCallum told reporters on Oct. 23.  It’s true the Evergreen Line was built for $1.41 billion, opening in 2016. Its length is 10.9 kilometres, and does include a tunnel. But the Evergreen Line is about two-thirds the length of a line that would run from King George Station along Fraser Highway to Langley City. The SkyTrain extension would be about 16 kilometres long.  McCallum has said the Fraser Highway extension could be built affordably for the funding envelope that had already been approved for the LRT, at $1.65 billion. That’s a claim B.C.’s premier didn’t buy.  \"I care not about the technology. If Surrey wants to change to SkyTrain, that’s fine, but they’re going to get half as far as they would have with LRT,\" John Horgan told reporters on Thursday.  TransLink staff are currently doing design and development work on the SkyTrain extension. TransLink CEO Kevin Desmond said Thursday one of McCallum’s suggestions, to find places where the line could not be elevated, could save money.  While the agency doesn’t have a final cost estimate for the SkyTrain line, the Mayors’ Council has heard it can’t be built for the $1.6 billion left after $56 million was spent on pre-construction and design for the LRT.  The Mayors’ Council heard Thursday that TransLink was at least $1 billion short for the cost of the full line, and it may have to terminate in Fleetwood or Clayton Heights.  But coming up with lower lengths, and therefore lower costs, could be part of the mayor’s attempts to make the SkyTrain extension seem more attractive, said Telford.  \"I think he’s trying to present the best possible case that he can fulfill his promises without too much financial pain, and to put it generously, he’s reading the spreadsheets optimistically,\" Telford said.  Click the image above to view details of the plan discused at the Dec. 13 Mayors’ Council meeting.  .  Overstating Surrey’s debt.  A press release, issued just after midnight on Nov. 27, McCallum expressed serious concern about the Surrey’s debt.  \"When the books were shown to me, I was deeply dismayed and shaken to the core to see how much debt the City of Surrey has been carrying,\" he was quoted as saying in the press release. \"The fact that the debt load is at $514 million is simply untenable and frankly irresponsible.\".  City financial records from December 2017 indicated the debt load was then $267 million, or just over half that amount. And in the city’s proposed budget, issued under McCallum’s council for a Dec. 11, 2018 meeting, the \"previously approved\" internal and external debt is $316 million – only about 60 per cent of the mayor’s claim.  McCallum’s staff later said the $514 million figure he was referring to was the debt load the city is expected to take on over five years of building projects, which by definition is money that hasn’t been spent yet.  In the proposed budget, the $514 million figure includes \"previously approved\" debt and $198 million of \"internal debt approved for the 2018-2022 General Capital Program.\".  When asked on Dec. 13 whether he was overstating the city’s debt, McCallum said, \"The city’s debt as far as the City of Surrey is $514 million, that’s in the financial statements, in the public documents that have gone out. I’ve never misstated that debt. So that’s there. We’ve passed a draft budget. It takes into consideration the very large debt that we need to bring down.\".  McCallum’s council narrowly approved a plan to slash $136 million that hasn’t been spent yet on proposed capital projects, including upgrades to RCMP facilities, a part, the Grandview Heights Library and Community Centre and a new sport and ice complex in Cloverdale.  .  Overstating the number of Surrey’s rinks.  One of the projects McCallum’s Safe Surrey council plans to pull the plug on is the $44.5 million Cloverdale Sport and Ice Complex. In a media availability shortly after the proposed budget was made public, McCallum was upbeat about the rinks the city still had for its citizens.  \"We have one ice rink in South Surrey, we have one in Cloverdale, we have three in Fleetwood which is only 10 minutes from Cloverdale. We have one in Newton, and we have two in our city centre. We have three opening brand new in the middle of next year in Bridgeview, by the Patullo Bridge. We have the three new ones coming along with the current ones,\" he said.  The new Bridgeview complex will indeed have three new rinks. But the project is slated to replace the North Surrey Arena, which has two rinks, according to the city, and that rink is slated to close shortly after the Bridgeview complex opens. It may be possible to keep both rinks open, but city staff confirmed there are no plans to do this at this point.  \"We found that a little bit misleading, they were talking about all the new arenas, but in reality we won’t be gaining three. Two of the arenas will be taken away. You’re only getting one new rink,\" Cloverdale Minor Hockey Association president Marty Jones told CTV News.  Tap the image above to read the city’s plans for the Cloverdale Sport and Ice Complex, initially expected to open in 2020.  .  Claims about the Cloverdale complex costs.  McCallum also claimed of the Cloverdale Sport and Ice Complex, \"The land underneath is very unstable. Our engineering department says we would not be able to build this on unstable ground unless we used pile driving techniques to build it. Pile driving if anyone knows construction is very expensive construction. Originally it was planned to be $45 million, but that would increase considerably if we had to pile drive it.\".  In fact, the original cost of the Cloverdale complex was $35 million, city documents say. In January 2018, reports indicated there were problems with the soil and the estimated cost was hiked to $44.5 million.  Attempts by CTV News to confirm with the city’s engineering department that there were even more problems with the soil on top of the previously discovered issues, which could increase costs even further, were stymied as city staff said they could not talk during the budget process.  In the city’s preliminary budget in December, the cost of the arena is still listed at $44.5 million.  The above chart from the City of Surrey suggests a dip in registration for youth ice sports.  .  Exaggerating a drop in youth ice sports.  The mayor also claimed that the enrolment of young people in ice sports was dropping – another justification for cutting the construction of the Cloverdale complex.  \"We have in the last eight to nine years had a declining use of ice for hockey. Each year it’s declining in participation and usage. We have a chart of that to show you,\" the mayor told reporters.  CTV News has analyzed the chart, which seemed to show a decline in enrolment of around 50 per cent. But the axes of the chart exaggerated this drop. When the axes were changed, the decline the numbers represented appeared closer to 15 per cent.  There was another problem.  For every year before 2018-19, the chart reflected the number of children playing ice sports for the whole year. But for the 2018-19 year, staff used the figures for October. The result, according to a survey of listed clubs by CTV News, is 352 missing children.  When those members are included in the chart, it’s clear that there are more children enrolled in 2018-19 than the past two years – and the alleged drop is actually an increase.  On top of that, the chart did not include bantam or midget teams – another 100 children – anyone in the city’s ice lessons, which includes 17,040 registrations, or anyone on the waitlist, whose estimates run from the city claim of 974 to the city’s Ice Allocation Committee estimate of 1,400.  \"I know that our arenas are used more than what’s listed in that graph,\" said Cindy Secord, who sits on the Ice Allocation Committee. \"That graph should go in the other direction.\".  Secord told CTV News that two minor ice hockey leagues have spent $450,000 buying 1,000 hours of ice time in neighbouring communities like Richmond or Delta.  \"We could not supply one sheet of ice for them for any games all year,\" she said. \"We’re turning away potential users because there’s nothing there.\".  Surrey staff explained the numbers this way: \"There are many possible reasons why the 2018 numbers appear low which may include waitlist accommodation, adding teaching stations, waitlist management. The numbers are being run from our stored data is not being modified.\".  Several of the clubs are now writing Surrey City Council as it proceeds to its final approval of its budget on Monday night, asking the city to correct its figures.  Viewing this article on our beta mobile site? Click here for a compatible version with embedded elements.',\n",
       " 'A Superior Court of Ontario judge chastised JAZZ.FM91 on Friday morning, saying the not-for-profit Toronto radio station had been \"playing games\" to prevent a dissident shareholder group from lobbying members for changes in the organization’s board of directors.  Justice Sean Dunphy directed the station to provide the e-mail addresses of its approximately 2,200 member-donors to Brian Hemming, a Toronto-investment relations consultant and founder of Save Jazz FM. The group was founded in the summer after an eruption of discontent among supporters.  The station had provided Mr. Hemming with names and addresses of members, but refused to include e-mail addresses or phone numbers, citing privacy concerns. Mr. Hemming argued that the move disadvantaged his group in its dispute, noting the station’s board frequently lobbies its members through e-mails.  Story continues below advertisement.  Justice Dunphy said the station’s defiant stand \"was clearly adopted to frustrate the applicants and not – as suggested – out of concern to maintain privacy.\" Still, he denied Mr. Hemming’s request for phone numbers, characterizing that method of contact as intrusive.  \"This has degenerated into an acrimonious fight,\" he wrote in his decision. \"It needn’t be so adversarial.\".  A statement e-mailed to The Globe by Reagan Ruslim, who joined the board last month, said \"JAZZ.FM91 will respect the order of the Court.\" When asked for comment about the judge’s criticisms, he replied the station would \"have a further statement next week. Stay tuned!\".  During an interview outside the small courtroom, which had been packed with supporters, Mr. Hemming said he and his group were \"very pleased with the decision. This really just levels the playing field and gives us an opportunity to talk to members about what our proposals are – and that’s all we ever wanted.\".  In a statement issued later, Mr. Hemming said his group intended to use the e-mail addresses to press for a special meeting of members. \"The purpose of the meeting would be to vote out the incumbent board and then vote in a new board of directors proposed by Save JAZZ.FM91.\".  JAZZ.FM91 has been in turmoil since the spring, when its president and CEO, Ross Porter, departed in the wake of an investigation into allegations of workplace bullying, harassment, and sexual harassment. (In a statement to the Globe at the time, Mr. Porter denied his departure was connected to the investigation. When he stepped down, he was given the title of president emeritus and he retained his position as host of his own Saturday morning radio program.).  As news of the allegations began to surface, members complained about what they said was a lack of transparency. Their discontent escalated after the station laid off a number of popular on-air personalities in June, leaving many time slots without a host. At the annual general meeting in late August, dozens of members turned out to voice anger and disappointment with the station’s board and management.  Story continues below advertisement.  Story continues below advertisement.  The disarray appears to be affecting the station’s financial picture: The most recent fundraising drive, held last month, raised only $186,000 of its $350,000 goal.  The fight over e-mail addresses will cost the station approximately $50,000, after the judge ordered it to pay $20,000 of Mr. Hemming’s estimated $50,000 costs in addition to its own $30,000 of incurred costs. Though Justice Dunphy said he was loath to penalize a not-for-profit, he believed the station had acted improperly by \"tossing roadblocks in the way of democracy,\" and \"it would be sending the wrong message\" to not charge it some share of Mr. Hemming’s costs.  One former director indicated on Friday that he would be pleased to return as part of a proposed overhaul. Joseph Manzoli told the Globe he left the board last winter, after serving three years, \"because of the lack of good governance and transparency. I’m coming back because change is in sight, and if I can assist in bringing that positive change, I’m in with both feet.\"',\n",
       " 'Security experts believe Thursday’s emailed bomb threats can be traced back to the same group responsible for the \"sextortion\" scam this past October.  While investigators still do not know who is responsible, Cisco System’s Talos cybersecurity unit said in a statement on Friday that the threats came from the same group of fraudsters responsible for sending emails a few months back that claimed to have videos showing the recipients having sex.  READ MORE: Sextortion scam uses old passwords to extort money from victims.  \"Cisco Talos discovered that this campaign is actually an evolution of sextortion and extortion attacks that we reported on in October. The claims in the emails we’ve seen from this actor are completely false, yet they have caused untold amounts of damage as organizations have evacuated buildings and called upon law enforcement to investigate,\" the security firm wrote in its statement.  In the \"sextortion\" case, the senders threatened to release these videos, recorded through the webcams on recipients’ computers, unless they were paid a ransom.  Jason Schultz, technical researcher at Talos, stated in the company’s blog post that some of the bomb threats that took place this week came from the same addresses used in those campaigns.  WATCH: Bomb threats demanding Bitcoin investigated across Canada, U.S.  \"Multiple IPs involved in sending these bomb threats also sent various types of sextortion email that we saw in the previous campaign. In those cases, the attackers sent out emails claiming to have compromising videos of the victim and (threatened to) release them to the public unless the attacker (received) a bitcoin payment,\" the post read.  According to the post, the bomb threat had morphed once again by late Thursday, as the attackers now threatened to throw acid on the victims.  Director, security response at cybersecurity firm Symantec, Kevin Haley, agreed with this finding.  WATCH: Authorities outline ‘sextortion’ string involving inmates, military service members.  \"We believe it’s the same group,\" he confirmed.  To determine this, Haley explained that Symantec looked at where the threats where coming from, the characteristics of the emails and whether or not the same spam servers were being used in this case as were used in October.  \"We’re looking for similarities in the attack and when you see those similarities you pretty much know it’s the same group,\" he said.  According to Haley, the bomb threats were an \"innovation\" on October’s \"sextortion\" scam, and the threat will likely continue to evolve until the perpetrators stumble upon one that sticks.  WATCH: Burnaby RCMP warns of rise in ‘sextortion’ cases.  \"This game is all about getting a certain percentage of people to respond,\" he said.  \"The sextortion spam is not new. What’s new is they had a new twist that they thought could increase the amount of money they could make,\" Haley explained.  \"While this caused chaos, it doesn’t look like it made them any money so they’ve moved on.\".  He states however, that the increased frequency of these kinds of threats has less to do with access to technology and more to do with the option to demand ransom payments in bitcoin.  \"What’s different here is that there is an easy way to exploit people, and that’s cryptocurrency. It’s fast, it’s virtual and it’s almost risk-free for the bad guys to do that,\" he said.  READ MORE: ‘It becomes a nightmare’: the rise of the viral bomb threat and how it makes the job of police harder.  Haley said that though the attackers didn’t make any money this time, we’re likely to see more of this style of attack containing different threats until one prompts enough people to pay the ransom. And when it does, he warns that it’s going to \"explode.\".  \"They’re going to continue to throw things up against the wall and see what sticks until, eventually, when they hit at something that motivates people to actually pay that ransom, we’ll see that explode,\" Haley said. \"We’ll see hundreds of thousands, millions of these emails. Everybody will start getting them in their mailbox.\"',\n",
       " 'Ford and Trudeau trade shots on climate change plans, Dec. 8 We are now in crisis mode with the environment. Our government’s pathetic attempt at reducing global warming has not been of any use.  \"Justin Trudeau and the Liberals should pay attention to the riots happening in France. The people are revolting against carbon taxes, open immigration and the arrogance of the progressive socialist government,\" Earl Hyde of Brantford writes. ( JEAN-PHILIPPE KSIAZEK / AFP/GETTY IMAGES ).  Punishing people with taxes because they need to get around or want to keep themselves warm in the winter is no solution at all. Good riddance to the cap and trade — or \"pay up and pollute all you want\" — initiative. We need real scientific solutions, such as forcing builders to make homes and buildings more energy efficient and sustainable. We need clean energy for transportation and home heating. Also, we must protect and expand our green spaces and plant more trees, which absorb CO2. There are solutions out there. It just takes some genuine government involvement to get things moving in that direction. If the oil companies are holding us back, they must be ignored. The clean energy sector can create jobs, too. The planet and our very lives depend on it.  Article Continued Below.  Jane White, Scarborough Canada, which contributes less that 1.6 per cent of overall greenhouse gases, is being forced to pay carbon taxes while China opens a new coal-fired generating plant every week. If you support the climate change theory, you should stop driving a car, stop using carbon-based electricity, and stop using anything that is made of carbon. If you support open immigration, you should welcome and support an immigrant in your home. The carbon tax and open immigration should be voluntary and those who support it should pay. The progressives are hypocrites and never walk the talk. When we have finally had enough, the yellow vests in Canada will stand up to Trudeau and his politically correct progressive elites.  Earl G. Hyde, Brantford The Dunkirk analogy, far from being disrespectful, is entirely appropriate in the context of the greatest threat our planet is experiencing. Unless ordinary people like us rally against the climate change deniers in both the federal and provincial Conservative parties, we are marching toward climate catastrophe.  Article Continued Below.  To paraphrase a well-known expression, \"While Conservatives fiddle, the planet burns!\" Bravo to our Guelph MPP. Maggie Laidlaw, Guelph This \"goal post\" talk reflects Ford’s view that this is all some sort of political game, when it is actually about the preservation of Earth and life itself. Science tells us that the goal posts of catastrophic climate change have already been cemented in place via human greed, and the politicians who prioritize corporate profit over public good keep us hurtling toward these posts at breakneck speed. If you want to talk about unfair, try living in a world where someone as ignorant as Ford can somehow rise to political power. Joel Maziarski, Toronto Climate fears are real, so oilsands must close, Walkom, Dec. 5 Thank you to Thomas Walkom for this thoughtful column. There is a growing movement of young people calling for climate action and environmental justice, through school strikes, sit-ins and a recent lawsuit in Quebec against the federal government’s failure to take meaningful action. Parents and teachers want the best for our children. But we are busy and anxious providing what they need to thrive now, so it’s hard to look to the future at something over which we seem to have so little control. As a new parent, there is nothing I want more than for my daughter to grow up in a stable climate, not only for herself. And I don’t want her to have the weight of knowing that children in other places are facing hunger, flooding or displacement because we didn’t act. If we come together in solidarity with the youth, we have power. In Canada, we can lead the way to the rapid and intense climate action the planet needs. No new fossil-fuel infrastructure. We need high and rising carbon taxes returned to the taxpayers and intense investment in green infrastructure, jobs and social justice infrastructure. Rebecca Weigand, TorontoFrance’s yellow vests and the tarsands of Alberta, Salutin, Dec. 7 Rick Salutin is right to mention the urgent needs of both saving the planet from ruinous climate change and putting the next meal on the table. Although a carbon tax can help with the former it does nothing for the latter, as the yellow vests are saying so clearly. But we can address both needs by returning the proceeds of the carbon tax to households to help them pay for the transition to a low-carbon economy. British Columbia did this 10 years ago. The federal Liberals have finally seen the light. Even U.S. Republicans and Democrats have seen it, with the introduction of the bipartisan energy innovation and carbon dividend act. President Macron: pay attention. Doug Pritchard, Toronto.  Read more about:',\n",
       " 'Looking for a job, kid? Try a store, a bank, a hospital or an IT company.  The retail industry, long a place for people to take their first step on the employment ladder, is still a solid place to start. According to the Civic Action study, the retail sector in Ontario employed 226,000 youth in 2017. ( Andrew Francis Wallace / Toronto Star File Photo ).  Those sectors are the best bets for youth looking for an entry-level position, according to a study which is being released Monday by Civic Action. And employers in all those industries are looking for some of the same abilities: most sought-after are skills such as communication and empathy — not just the latest technical knowledge or courses. \"Some of those ‘soft’ skills are in short supply, but they’re what employers are looking for,\" said Sevaun Palvetzian, CEO of Civic Action, a non-partisan civic engagement group.  Article Continued Below.  According to the most recent numbers from Statistics Canada, the unemployment rate of young Canadians is more than double the national average. In November, the national unemployment rate fell to 5.6 per cent (from 5.8 per cent in October). For Canadians between the ages of 15 and 24, the rate was 10.8 per cent (down from 11.0). There are more than 860,000 youth across Canada who aren’t working, studying or in some form of training, the Civic Action study found. That’s not just a problem for the youth who are directly affected, but for society at large, argued Palvetzian. And it can be measured in dollars and cents, not just moral outrage. \"There’s a societal cost to having someone remain unemployed,\" said Palvetzian. The study estimated that if one of those young people stays unemployed for their entire life, it would cost Canadian society up to $1 million. \"There are health-care costs. There are welfare costs. There can be criminal justice costs,\" Palvetzian said.  Civic Action also has an online \"road map\" for employers looking to beef up their youth hiring and suggests companies \"should move to skills-based hiring,\" as opposed to \"practices that prioritize … credentials and experience.\" The retail industry, long a place for people to take their first step on the employment ladder, is still a solid place to start. According to the Civic Action study — which used research from Burning Glass Technologies and LinkedIn — the retail industry is the biggest source of online postings for entry-level jobs. In 2017, the retail sector in Ontario employed 226,000 youth, according to the study.  Article Continued Below.  The Civic Action study also used online data to come up with the skills employers are looking for. Top of the list? Communication. While dealing with customers at a shop or bank (or patients in a hospital) are obvious situations where communication is vital, it’s also crucial in Canada’s burgeoning tech sector. The stereotype of a socially awkward IT professional stuck in a back office somewhere no longer holds true — if it ever did. One big reason strong communication skills are important is they won’t become outdated no matter how much technology changes, Palvetzian said. \"These are things that are the least susceptible to technological disruption,\" Palvetzian said. Next year, the information and communication technology sector will have 182,000 job openings across the country, with more than 40 per cent of those openings in Ontario.']"
      ]
     },
     "execution_count": 8,
     "metadata": {},
     "output_type": "execute_result"
    }
   ],
   "source": [
    "textlist"
   ]
  },
  {
   "cell_type": "code",
   "execution_count": 9,
   "id": "18f7d5dd",
   "metadata": {},
   "outputs": [],
   "source": [
    "#quotes function without space\n",
    "def get_quotes(text):\n",
    "    quotes = re.findall(r'\"(.*?)\"', text)\n",
    "    return(quotes)"
   ]
  },
  {
   "cell_type": "code",
   "execution_count": 10,
   "id": "c5de789d",
   "metadata": {
    "scrolled": true
   },
   "outputs": [
    {
     "name": "stdout",
     "output_type": "stream",
     "text": [
      "['I was clear when I was mayor – I don’t support Uber at all,', 'It was a twinkle in some engineer’s eye some years ago.', 'Mayor McCallum’s statements vary greatly from truth,', 'There’s a tried-and-true method in Canadian politics: after an election a new government takes office and says, ‘Oh my gosh, the cupboards are bare.’ Or, ‘We’re much deeper in debt than I thought we were, and now I’ve seen the real books.’ So I think there’s an element of that kind of gamesmanship going on,', 'Then there’s the fact that McCallum has been out of office for quite some time, thinking he knew the job, but some things have changed,', 'If you take Fraser Highway SkyTrain and if we’re building that seven days a week around the clock, we probably can save, and this is TransLink’s figures, we can probably save $2-300 million,', 'TransLink has not conducted any detailed study on potential construction methods for a SkyTrain route from Surrey to Langley. The most recent cost estimate (2017 Hatch report) did not consider construction schedules,', 'We’ve also said in the past if we let large construction jobs build seven days a week, around the clock, we can reduce costs considerably,', 'I’ve never said there’s a study.', 'The Evergreen Line that was recently built, same distance, elevated all the way, actually goes through a tunnel, completed a year and a half ago, for only $1.4 billion,', 'I care not about the technology. If Surrey wants to change to SkyTrain, that’s fine, but they’re going to get half as far as they would have with LRT,', 'I think he’s trying to present the best possible case that he can fulfill his promises without too much financial pain, and to put it generously, he’s reading the spreadsheets optimistically,', 'When the books were shown to me, I was deeply dismayed and shaken to the core to see how much debt the City of Surrey has been carrying,', 'The fact that the debt load is at $514 million is simply untenable and frankly irresponsible.', 'previously approved', 'previously approved', 'internal debt approved for the 2018-2022 General Capital Program.', 'The city’s debt as far as the City of Surrey is $514 million, that’s in the financial statements, in the public documents that have gone out. I’ve never misstated that debt. So that’s there. We’ve passed a draft budget. It takes into consideration the very large debt that we need to bring down.', 'We have one ice rink in South Surrey, we have one in Cloverdale, we have three in Fleetwood which is only 10 minutes from Cloverdale. We have one in Newton, and we have two in our city centre. We have three opening brand new in the middle of next year in Bridgeview, by the Patullo Bridge. We have the three new ones coming along with the current ones,', 'We found that a little bit misleading, they were talking about all the new arenas, but in reality we won’t be gaining three. Two of the arenas will be taken away. You’re only getting one new rink,', 'The land underneath is very unstable. Our engineering department says we would not be able to build this on unstable ground unless we used pile driving techniques to build it. Pile driving if anyone knows construction is very expensive construction. Originally it was planned to be $45 million, but that would increase considerably if we had to pile drive it.', 'We have in the last eight to nine years had a declining use of ice for hockey. Each year it’s declining in participation and usage. We have a chart of that to show you,', 'I know that our arenas are used more than what’s listed in that graph,', 'That graph should go in the other direction.', 'We could not supply one sheet of ice for them for any games all year,', 'We’re turning away potential users because there’s nothing there.', 'There are many possible reasons why the 2018 numbers appear low which may include waitlist accommodation, adding teaching stations, waitlist management. The numbers are being run from our stored data is not being modified.']\n",
      "['playing games', 'was clearly adopted to frustrate the applicants and not – as suggested – out of concern to maintain privacy.', 'This has degenerated into an acrimonious fight,', 'It needn’t be so adversarial.', 'JAZZ.FM91 will respect the order of the Court.', 'have a further statement next week. Stay tuned!', 'very pleased with the decision. This really just levels the playing field and gives us an opportunity to talk to members about what our proposals are – and that’s all we ever wanted.', 'The purpose of the meeting would be to vote out the incumbent board and then vote in a new board of directors proposed by Save JAZZ.FM91.', 'tossing roadblocks in the way of democracy,', 'it would be sending the wrong message', 'because of the lack of good governance and transparency. I’m coming back because change is in sight, and if I can assist in bringing that positive change, I’m in with both feet.']\n",
      "['sextortion', 'Cisco Talos discovered that this campaign is actually an evolution of sextortion and extortion attacks that we reported on in October. The claims in the emails we’ve seen from this actor are completely false, yet they have caused untold amounts of damage as organizations have evacuated buildings and called upon law enforcement to investigate,', 'sextortion', 'Multiple IPs involved in sending these bomb threats also sent various types of sextortion email that we saw in the previous campaign. In those cases, the attackers sent out emails claiming to have compromising videos of the victim and (threatened to) release them to the public unless the attacker (received) a bitcoin payment,', 'We believe it’s the same group,', 'We’re looking for similarities in the attack and when you see those similarities you pretty much know it’s the same group,', 'innovation', 'sextortion', 'This game is all about getting a certain percentage of people to respond,', 'The sextortion spam is not new. What’s new is they had a new twist that they thought could increase the amount of money they could make,', 'While this caused chaos, it doesn’t look like it made them any money so they’ve moved on.', 'What’s different here is that there is an easy way to exploit people, and that’s cryptocurrency. It’s fast, it’s virtual and it’s almost risk-free for the bad guys to do that,', 'explode.', 'They’re going to continue to throw things up against the wall and see what sticks until, eventually, when they hit at something that motivates people to actually pay that ransom, we’ll see that explode,', 'We’ll see hundreds of thousands, millions of these emails. Everybody will start getting them in their mailbox.']\n",
      "['Justin Trudeau and the Liberals should pay attention to the riots happening in France. The people are revolting against carbon taxes, open immigration and the arrogance of the progressive socialist government,', 'pay up and pollute all you want', 'While Conservatives fiddle, the planet burns!', 'goal post']\n",
      "['Some of those ‘soft’ skills are in short supply, but they’re what employers are looking for,', 'There’s a societal cost to having someone remain unemployed,', 'There are health-care costs. There are welfare costs. There can be criminal justice costs,', 'road map', 'should move to skills-based hiring,', 'practices that prioritize … credentials and experience.', 'These are things that are the least susceptible to technological disruption,']\n"
     ]
    }
   ],
   "source": [
    "#print quotes and save as .txt file\n",
    "#note: every time you run this it will add to the .txt, so delete the old one first\n",
    "#also note: this prints a list of lists, where each sublist is the quotes from one text\n",
    "for text in textlist:\n",
    "    found_quotes = get_quotes(text)\n",
    "    if len(found_quotes) > 0:\n",
    "        print(found_quotes)\n",
    "    with open (\"newapproachoutput.txt\", \"a\") as x:\n",
    "        for quote in found_quotes:\n",
    "            print(quote, file = x)"
   ]
  },
  {
   "cell_type": "markdown",
   "id": "9c9c5ee7",
   "metadata": {},
   "source": [
    "<h2>Part 2: extracting speakers<h2>"
   ]
  },
  {
   "cell_type": "code",
   "execution_count": 11,
   "id": "b853b60d",
   "metadata": {},
   "outputs": [],
   "source": [
    "#import modules\n",
    "import spacy\n",
    "import re\n",
    "from spacy.matcher import Matcher\n",
    "nlp = spacy.load(\"en_core_web_sm\")\n",
    "matcher = Matcher(nlp.vocab)"
   ]
  },
  {
   "cell_type": "code",
   "execution_count": 12,
   "id": "675780f2",
   "metadata": {},
   "outputs": [
    {
     "data": {
      "text/plain": [
       "['texts/5c1452701e67d78e276ee126.txt',\n",
       " 'texts/5c146e42795bd2fcce2ea8e5.txt',\n",
       " 'texts/5c149ffc1e67d78e276fbd44.txt',\n",
       " 'texts/5c15488f1e67d78e277161d7.txt',\n",
       " 'texts/5c1548a31e67d78e2771624f.txt']"
      ]
     },
     "execution_count": 12,
     "metadata": {},
     "output_type": "execute_result"
    }
   ],
   "source": [
    "#save file paths\n",
    "import os\n",
    "fileids = os.listdir(\"texts\")\n",
    "fileids = [(\"texts/\" + fileid) for fileid in fileids]\n",
    "fileids"
   ]
  },
  {
   "cell_type": "code",
   "execution_count": 13,
   "id": "90f5e309",
   "metadata": {},
   "outputs": [],
   "source": [
    "#open files one at a time for this\n",
    "#if we do them all at once it creates issues with the indexing\n",
    "text1list = []\n",
    "with open (fileids[0], mode =\"r\", encoding = \"utf-8\") as f:\n",
    "    text = f.read()\n",
    "    text1list.append(text)"
   ]
  },
  {
   "cell_type": "code",
   "execution_count": 14,
   "id": "f914a630",
   "metadata": {},
   "outputs": [],
   "source": [
    "#standardize quotation marks\n",
    "pipeline = [('“', '\"'), ('´´', '\"'), ('”', '\"'), ('’’', '\"')]\n",
    "for old, new in pipeline:\n",
    "    text1list = [(x.replace(old, new)) for x in text1list]"
   ]
  },
  {
   "cell_type": "code",
   "execution_count": 15,
   "id": "01146884",
   "metadata": {},
   "outputs": [],
   "source": [
    "#remove html\n",
    "text1list = [(x.replace(\"\\n\", \"\")) for x in text1list]\n",
    "text1list = [(x.replace(\"\\'\", \"’\")) for x in text1list]"
   ]
  },
  {
   "cell_type": "code",
   "execution_count": 16,
   "id": "d2d72605",
   "metadata": {
    "collapsed": true
   },
   "outputs": [
    {
     "data": {
      "text/plain": [
       "['The question was common for mayoral candidates to hear back in the October municipal election: what do you think of ride-hailing and should it come to Metro Vancouver?.  \"I was clear when I was mayor – I don’t support Uber at all,\" then-Surrey mayoral candidate Doug McCallum responded at one debate.  It was an odd thing to say: McCallum’s last term as Surrey mayor ended in 2005, while Uber as a company began in 2009, briefly entering the Vancouver market only in 2012. There was no Uber not to support in 2005.  Rival candidate Bruce Hayne joked in his turn to answer the question, \"It was a twinkle in some engineer’s eye some years ago.\".  McCallum didn’t correct himself.  But the strange remark may have foreshadowed a growing number of curious statements from the returning mayor of B.C.’s second-largest, rapidly growing city, which is wrestling with big changes after his come-from-behind election win.  CTV News has analyzed about three weeks’ worth of McCallum’s speeches, statements at public meetings, and press conferences to find the mayor’s claims, in some cases, don’t stand up to inspection.  Sometimes, his claims seem to further his political agenda, such as exaggerating a drop in the children participating in ice sports, which was part of his argument to cut the previous administration’s projects, including a $44.5 million Cloverdale Sport and Ice Complex.  A claim the city’s debt is higher than city reports say it is could support a total of $135 million in proposed cuts to the previous administration’s projects, including the $58 million Grandview Heights Community Centre and Library.  A claim the costs of building a SkyTrain extension to Langley are lower than TransLink says they are could make one of McCallum’s two big-ticket promises, SkyTrain and a municipal police force, more attractive.  But other times, the claims, such as what he said about Uber, do not seem to advance any particular political agenda. To make our list, the claims had to be on camera, at a public meeting or addressed to the press, and not be corrected as a one-off error.  Some voters say he is already losing their trust.  \"Mayor McCallum’s statements vary greatly from truth,\" Cindy Dalglish told Surrey’s councillors at Tuesday’s finance committee meeting.  But observers say there may be a method to McCallum’s messages.  \"There’s a tried-and-true method in Canadian politics: after an election a new government takes office and says, ‘Oh my gosh, the cupboards are bare.’ Or, ‘We’re much deeper in debt than I thought we were, and now I’ve seen the real books.’ So I think there’s an element of that kind of gamesmanship going on,\" University of the Fraser Valley political scientist Hamish Telford said.  \"Then there’s the fact that McCallum has been out of office for quite some time, thinking he knew the job, but some things have changed,\" Telford said.  McCallum didn’t respond to interview requests on these topics through City of Surrey staff, so CTV News caught up with him at Thursday’s Mayors’ Council meeting.  The mayor didn’t respond directly to questions about whether there’s a pattern to advancing these claims, but CTV News has included the response he did give in each section below.  .  Citing a nonexistent TransLink study.  \"If you take Fraser Highway SkyTrain and if we’re building that seven days a week around the clock, we probably can save, and this is TransLink’s figures, we can probably save $2-300 million,\" McCallum told the Mayors Council on Nov. 15.  McCallum’s speech to fellow municipal leaders was a crucial part of getting the region on board with his plan to switch from the Newton-Surrey-Guildford LRT to a SkyTrain extension to Langley.  Mayors were understandably concerned about the cost of the move to a Langley SkyTrain, which a TransLink study in 2017 concluded would cost between $2.6 billion and $2.9 billion – almost twice the $1.65 billion cost of the LRT line.  McCallum claimed in that speech the cost could be reduced if the construction was done 24/7, which may be possible, though it could lead to substantial disruptions along the route for the public.  But the mayor claimed a study had been done to confirm this by TransLink. The agency told CTV News it is has not done any such study.  \"TransLink has not conducted any detailed study on potential construction methods for a SkyTrain route from Surrey to Langley. The most recent cost estimate (2017 Hatch report) did not consider construction schedules,\" a spokesperson said.  On Dec. 13, the mayor brought up the 24/7 construction plan up again while speaking to the media.  \"We’ve also said in the past if we let large construction jobs build seven days a week, around the clock, we can reduce costs considerably,\" he said. When told of TransLink’s statement they had never done a study, he said, \"I’ve never said there’s a study.\".  Tap the image above to read more about the cost of a SkyTrain line, and who could be on the hook for the switch from LRT. (Photo: City of Surrey).  .  SkyTrain vs. Evergreen Line: inaccurate comparisons.  \"The Evergreen Line that was recently built, same distance, elevated all the way, actually goes through a tunnel, completed a year and a half ago, for only $1.4 billion,\" McCallum told reporters on Oct. 23.  It’s true the Evergreen Line was built for $1.41 billion, opening in 2016. Its length is 10.9 kilometres, and does include a tunnel. But the Evergreen Line is about two-thirds the length of a line that would run from King George Station along Fraser Highway to Langley City. The SkyTrain extension would be about 16 kilometres long.  McCallum has said the Fraser Highway extension could be built affordably for the funding envelope that had already been approved for the LRT, at $1.65 billion. That’s a claim B.C.’s premier didn’t buy.  \"I care not about the technology. If Surrey wants to change to SkyTrain, that’s fine, but they’re going to get half as far as they would have with LRT,\" John Horgan told reporters on Thursday.  TransLink staff are currently doing design and development work on the SkyTrain extension. TransLink CEO Kevin Desmond said Thursday one of McCallum’s suggestions, to find places where the line could not be elevated, could save money.  While the agency doesn’t have a final cost estimate for the SkyTrain line, the Mayors’ Council has heard it can’t be built for the $1.6 billion left after $56 million was spent on pre-construction and design for the LRT.  The Mayors’ Council heard Thursday that TransLink was at least $1 billion short for the cost of the full line, and it may have to terminate in Fleetwood or Clayton Heights.  But coming up with lower lengths, and therefore lower costs, could be part of the mayor’s attempts to make the SkyTrain extension seem more attractive, said Telford.  \"I think he’s trying to present the best possible case that he can fulfill his promises without too much financial pain, and to put it generously, he’s reading the spreadsheets optimistically,\" Telford said.  Click the image above to view details of the plan discused at the Dec. 13 Mayors’ Council meeting.  .  Overstating Surrey’s debt.  A press release, issued just after midnight on Nov. 27, McCallum expressed serious concern about the Surrey’s debt.  \"When the books were shown to me, I was deeply dismayed and shaken to the core to see how much debt the City of Surrey has been carrying,\" he was quoted as saying in the press release. \"The fact that the debt load is at $514 million is simply untenable and frankly irresponsible.\".  City financial records from December 2017 indicated the debt load was then $267 million, or just over half that amount. And in the city’s proposed budget, issued under McCallum’s council for a Dec. 11, 2018 meeting, the \"previously approved\" internal and external debt is $316 million – only about 60 per cent of the mayor’s claim.  McCallum’s staff later said the $514 million figure he was referring to was the debt load the city is expected to take on over five years of building projects, which by definition is money that hasn’t been spent yet.  In the proposed budget, the $514 million figure includes \"previously approved\" debt and $198 million of \"internal debt approved for the 2018-2022 General Capital Program.\".  When asked on Dec. 13 whether he was overstating the city’s debt, McCallum said, \"The city’s debt as far as the City of Surrey is $514 million, that’s in the financial statements, in the public documents that have gone out. I’ve never misstated that debt. So that’s there. We’ve passed a draft budget. It takes into consideration the very large debt that we need to bring down.\".  McCallum’s council narrowly approved a plan to slash $136 million that hasn’t been spent yet on proposed capital projects, including upgrades to RCMP facilities, a part, the Grandview Heights Library and Community Centre and a new sport and ice complex in Cloverdale.  .  Overstating the number of Surrey’s rinks.  One of the projects McCallum’s Safe Surrey council plans to pull the plug on is the $44.5 million Cloverdale Sport and Ice Complex. In a media availability shortly after the proposed budget was made public, McCallum was upbeat about the rinks the city still had for its citizens.  \"We have one ice rink in South Surrey, we have one in Cloverdale, we have three in Fleetwood which is only 10 minutes from Cloverdale. We have one in Newton, and we have two in our city centre. We have three opening brand new in the middle of next year in Bridgeview, by the Patullo Bridge. We have the three new ones coming along with the current ones,\" he said.  The new Bridgeview complex will indeed have three new rinks. But the project is slated to replace the North Surrey Arena, which has two rinks, according to the city, and that rink is slated to close shortly after the Bridgeview complex opens. It may be possible to keep both rinks open, but city staff confirmed there are no plans to do this at this point.  \"We found that a little bit misleading, they were talking about all the new arenas, but in reality we won’t be gaining three. Two of the arenas will be taken away. You’re only getting one new rink,\" Cloverdale Minor Hockey Association president Marty Jones told CTV News.  Tap the image above to read the city’s plans for the Cloverdale Sport and Ice Complex, initially expected to open in 2020.  .  Claims about the Cloverdale complex costs.  McCallum also claimed of the Cloverdale Sport and Ice Complex, \"The land underneath is very unstable. Our engineering department says we would not be able to build this on unstable ground unless we used pile driving techniques to build it. Pile driving if anyone knows construction is very expensive construction. Originally it was planned to be $45 million, but that would increase considerably if we had to pile drive it.\".  In fact, the original cost of the Cloverdale complex was $35 million, city documents say. In January 2018, reports indicated there were problems with the soil and the estimated cost was hiked to $44.5 million.  Attempts by CTV News to confirm with the city’s engineering department that there were even more problems with the soil on top of the previously discovered issues, which could increase costs even further, were stymied as city staff said they could not talk during the budget process.  In the city’s preliminary budget in December, the cost of the arena is still listed at $44.5 million.  The above chart from the City of Surrey suggests a dip in registration for youth ice sports.  .  Exaggerating a drop in youth ice sports.  The mayor also claimed that the enrolment of young people in ice sports was dropping – another justification for cutting the construction of the Cloverdale complex.  \"We have in the last eight to nine years had a declining use of ice for hockey. Each year it’s declining in participation and usage. We have a chart of that to show you,\" the mayor told reporters.  CTV News has analyzed the chart, which seemed to show a decline in enrolment of around 50 per cent. But the axes of the chart exaggerated this drop. When the axes were changed, the decline the numbers represented appeared closer to 15 per cent.  There was another problem.  For every year before 2018-19, the chart reflected the number of children playing ice sports for the whole year. But for the 2018-19 year, staff used the figures for October. The result, according to a survey of listed clubs by CTV News, is 352 missing children.  When those members are included in the chart, it’s clear that there are more children enrolled in 2018-19 than the past two years – and the alleged drop is actually an increase.  On top of that, the chart did not include bantam or midget teams – another 100 children – anyone in the city’s ice lessons, which includes 17,040 registrations, or anyone on the waitlist, whose estimates run from the city claim of 974 to the city’s Ice Allocation Committee estimate of 1,400.  \"I know that our arenas are used more than what’s listed in that graph,\" said Cindy Secord, who sits on the Ice Allocation Committee. \"That graph should go in the other direction.\".  Secord told CTV News that two minor ice hockey leagues have spent $450,000 buying 1,000 hours of ice time in neighbouring communities like Richmond or Delta.  \"We could not supply one sheet of ice for them for any games all year,\" she said. \"We’re turning away potential users because there’s nothing there.\".  Surrey staff explained the numbers this way: \"There are many possible reasons why the 2018 numbers appear low which may include waitlist accommodation, adding teaching stations, waitlist management. The numbers are being run from our stored data is not being modified.\".  Several of the clubs are now writing Surrey City Council as it proceeds to its final approval of its budget on Monday night, asking the city to correct its figures.  Viewing this article on our beta mobile site? Click here for a compatible version with embedded elements.']"
      ]
     },
     "execution_count": 16,
     "metadata": {},
     "output_type": "execute_result"
    }
   ],
   "source": [
    "text1list"
   ]
  },
  {
   "cell_type": "code",
   "execution_count": 17,
   "id": "345f41bd",
   "metadata": {},
   "outputs": [],
   "source": [
    "doc1 = nlp(text1list[0])"
   ]
  },
  {
   "cell_type": "code",
   "execution_count": 18,
   "id": "29f6cdac",
   "metadata": {},
   "outputs": [],
   "source": [
    "#quotes function without space\n",
    "def get_quotes(text):\n",
    "    quotes = re.findall(r'\"(.*?)\"', text)\n",
    "    return(quotes)"
   ]
  },
  {
   "cell_type": "code",
   "execution_count": 19,
   "id": "574a503e",
   "metadata": {
    "scrolled": true
   },
   "outputs": [
    {
     "name": "stdout",
     "output_type": "stream",
     "text": [
      "['I was clear when I was mayor – I don’t support Uber at all,', 'It was a twinkle in some engineer’s eye some years ago.', 'Mayor McCallum’s statements vary greatly from truth,', 'There’s a tried-and-true method in Canadian politics: after an election a new government takes office and says, ‘Oh my gosh, the cupboards are bare.’ Or, ‘We’re much deeper in debt than I thought we were, and now I’ve seen the real books.’ So I think there’s an element of that kind of gamesmanship going on,', 'Then there’s the fact that McCallum has been out of office for quite some time, thinking he knew the job, but some things have changed,', 'If you take Fraser Highway SkyTrain and if we’re building that seven days a week around the clock, we probably can save, and this is TransLink’s figures, we can probably save $2-300 million,', 'TransLink has not conducted any detailed study on potential construction methods for a SkyTrain route from Surrey to Langley. The most recent cost estimate (2017 Hatch report) did not consider construction schedules,', 'We’ve also said in the past if we let large construction jobs build seven days a week, around the clock, we can reduce costs considerably,', 'I’ve never said there’s a study.', 'The Evergreen Line that was recently built, same distance, elevated all the way, actually goes through a tunnel, completed a year and a half ago, for only $1.4 billion,', 'I care not about the technology. If Surrey wants to change to SkyTrain, that’s fine, but they’re going to get half as far as they would have with LRT,', 'I think he’s trying to present the best possible case that he can fulfill his promises without too much financial pain, and to put it generously, he’s reading the spreadsheets optimistically,', 'When the books were shown to me, I was deeply dismayed and shaken to the core to see how much debt the City of Surrey has been carrying,', 'The fact that the debt load is at $514 million is simply untenable and frankly irresponsible.', 'previously approved', 'previously approved', 'internal debt approved for the 2018-2022 General Capital Program.', 'The city’s debt as far as the City of Surrey is $514 million, that’s in the financial statements, in the public documents that have gone out. I’ve never misstated that debt. So that’s there. We’ve passed a draft budget. It takes into consideration the very large debt that we need to bring down.', 'We have one ice rink in South Surrey, we have one in Cloverdale, we have three in Fleetwood which is only 10 minutes from Cloverdale. We have one in Newton, and we have two in our city centre. We have three opening brand new in the middle of next year in Bridgeview, by the Patullo Bridge. We have the three new ones coming along with the current ones,', 'We found that a little bit misleading, they were talking about all the new arenas, but in reality we won’t be gaining three. Two of the arenas will be taken away. You’re only getting one new rink,', 'The land underneath is very unstable. Our engineering department says we would not be able to build this on unstable ground unless we used pile driving techniques to build it. Pile driving if anyone knows construction is very expensive construction. Originally it was planned to be $45 million, but that would increase considerably if we had to pile drive it.', 'We have in the last eight to nine years had a declining use of ice for hockey. Each year it’s declining in participation and usage. We have a chart of that to show you,', 'I know that our arenas are used more than what’s listed in that graph,', 'That graph should go in the other direction.', 'We could not supply one sheet of ice for them for any games all year,', 'We’re turning away potential users because there’s nothing there.', 'There are many possible reasons why the 2018 numbers appear low which may include waitlist accommodation, adding teaching stations, waitlist management. The numbers are being run from our stored data is not being modified.']\n"
     ]
    }
   ],
   "source": [
    "#print quotes and adds them to a list\n",
    "quotelist = []\n",
    "for text in text1list:\n",
    "    str_text = str(text)\n",
    "    found_quotes = get_quotes(str_text)\n",
    "    if len(found_quotes) > 0:\n",
    "        print(found_quotes)\n",
    "    for quote in found_quotes:\n",
    "        quotelist.append(quote)"
   ]
  },
  {
   "cell_type": "code",
   "execution_count": 20,
   "id": "18ce6ee5",
   "metadata": {},
   "outputs": [],
   "source": [
    "#def function to find people and orgs with spaCy\n",
    "def findspeakers(doc):\n",
    "    return [ent.text for ent in doc.ents if (ent.label_ == \"PERSON\" or ent.label_ == \"ORG\")]"
   ]
  },
  {
   "cell_type": "code",
   "execution_count": 21,
   "id": "1ed2268b",
   "metadata": {},
   "outputs": [],
   "source": [
    "speakerlist = findspeakers(doc1)"
   ]
  },
  {
   "cell_type": "code",
   "execution_count": 22,
   "id": "d6d5cf0a",
   "metadata": {
    "collapsed": true
   },
   "outputs": [
    {
     "data": {
      "text/plain": [
       "['Uber',\n",
       " 'Doug McCallum',\n",
       " 'McCallum',\n",
       " 'Surrey',\n",
       " 'Uber',\n",
       " 'Bruce Hayne',\n",
       " 'McCallum',\n",
       " 'CTV News',\n",
       " 'McCallum',\n",
       " 'Cloverdale Sport and Ice Complex',\n",
       " 'Grandview Heights Community Centre',\n",
       " 'Library',\n",
       " 'SkyTrain',\n",
       " 'Langley',\n",
       " 'McCallum',\n",
       " 'SkyTrain',\n",
       " 'McCallum',\n",
       " 'Cindy Dalglish',\n",
       " 'Surrey',\n",
       " 'McCallum',\n",
       " 'Hamish Telford',\n",
       " 'McCallum',\n",
       " 'Telford',\n",
       " 'McCallum',\n",
       " 'Surrey',\n",
       " 'CTV News',\n",
       " 'Mayors’ Council',\n",
       " 'CTV News',\n",
       " 'the Mayors Council',\n",
       " 'McCallum',\n",
       " 'Newton',\n",
       " 'SkyTrain',\n",
       " 'Langley',\n",
       " 'Langley SkyTrain',\n",
       " 'LRT',\n",
       " 'McCallum',\n",
       " 'CTV News',\n",
       " 'SkyTrain',\n",
       " 'Surrey',\n",
       " 'Langley',\n",
       " 'SkyTrain',\n",
       " 'LRT',\n",
       " 'Surrey',\n",
       " 'SkyTrain',\n",
       " 'Evergreen Line',\n",
       " 'the Evergreen Line',\n",
       " 'the Evergreen Line',\n",
       " 'SkyTrain',\n",
       " 'McCallum',\n",
       " 'LRT',\n",
       " 'Surrey',\n",
       " 'SkyTrain',\n",
       " 'LRT',\n",
       " 'John Horgan',\n",
       " 'SkyTrain',\n",
       " 'Kevin Desmond',\n",
       " 'McCallum',\n",
       " 'SkyTrain',\n",
       " 'the Mayors’ Council',\n",
       " 'LRT',\n",
       " 'The Mayors’ Council',\n",
       " 'Fleetwood',\n",
       " 'SkyTrain',\n",
       " 'Telford',\n",
       " 'Overstating Surrey’s',\n",
       " 'McCallum',\n",
       " 'Surrey',\n",
       " 'Surrey',\n",
       " 'McCallum’s',\n",
       " 'McCallum',\n",
       " 'General Capital Program',\n",
       " 'McCallum',\n",
       " 'McCallum’s',\n",
       " 'RCMP',\n",
       " 'the Grandview Heights Library and',\n",
       " 'Community Centre',\n",
       " 'Surrey',\n",
       " 'Safe Surrey',\n",
       " 'Cloverdale Sport and Ice Complex',\n",
       " 'McCallum',\n",
       " 'Fleetwood',\n",
       " 'Bridgeview',\n",
       " 'Bridgeview',\n",
       " 'the North Surrey Arena',\n",
       " 'Bridgeview',\n",
       " 'Marty Jones',\n",
       " 'CTV News',\n",
       " 'the Cloverdale Sport and Ice Complex',\n",
       " 'Cloverdale',\n",
       " 'McCallum',\n",
       " 'Cloverdale',\n",
       " 'CTV News',\n",
       " 'Surrey',\n",
       " 'Cloverdale',\n",
       " 'CTV News',\n",
       " 'CTV News',\n",
       " 'Ice Allocation Committee',\n",
       " 'Cindy Secord',\n",
       " 'the Ice Allocation Committee',\n",
       " 'Secord',\n",
       " 'CTV News',\n",
       " 'Surrey',\n",
       " 'Surrey City Council']"
      ]
     },
     "execution_count": 22,
     "metadata": {},
     "output_type": "execute_result"
    }
   ],
   "source": [
    "speakerlist"
   ]
  },
  {
   "cell_type": "code",
   "execution_count": 25,
   "id": "33979e45",
   "metadata": {},
   "outputs": [],
   "source": [
    "#gives a list of tuples with the speaker and its index as values \n",
    "#this gives the character index (instead of the token index that spaCy would give)\n",
    "#the issue is that if a speaker occurs multiple times it always takes the first index\n",
    "#there's a way to fix this but I don't know what it is\n",
    "speakerindexlist = []\n",
    "str_text = str(doc1)\n",
    "for speaker in speakerlist:\n",
    "    if speaker in str_text:\n",
    "        speakercharindex = (speaker, str_text.index(speaker))\n",
    "        speakerindexlist.append(speakercharindex)"
   ]
  },
  {
   "cell_type": "code",
   "execution_count": 26,
   "id": "f49f3b44",
   "metadata": {
    "scrolled": true
   },
   "outputs": [
    {
     "data": {
      "text/plain": [
       "[('Uber', 218),\n",
       " ('Doug McCallum', 262),\n",
       " ('McCallum', 267),\n",
       " ('Surrey', 237),\n",
       " ('Uber', 218),\n",
       " ('Bruce Hayne', 532),\n",
       " ('McCallum', 267),\n",
       " ('CTV News', 915),\n",
       " ('McCallum', 267),\n",
       " ('Cloverdale Sport and Ice Complex', 1350),\n",
       " ('Grandview Heights Community Centre', 1571),\n",
       " ('Library', 1610),\n",
       " ('SkyTrain', 1652),\n",
       " ('Langley', 1674),\n",
       " ('McCallum', 267),\n",
       " ('SkyTrain', 1652),\n",
       " ('McCallum', 267),\n",
       " ('Cindy Dalglish', 2195),\n",
       " ('Surrey', 237),\n",
       " ('McCallum', 267),\n",
       " ('Hamish Telford', 2705),\n",
       " ('McCallum', 267),\n",
       " ('Telford', 2712),\n",
       " ('McCallum', 267),\n",
       " ('Surrey', 237),\n",
       " ('CTV News', 915),\n",
       " ('Mayors’ Council', 3017),\n",
       " ('CTV News', 915),\n",
       " ('the Mayors Council', 3473),\n",
       " ('McCallum', 267),\n",
       " ('Newton', 3634),\n",
       " ('SkyTrain', 1652),\n",
       " ('Langley', 1674),\n",
       " ('Langley SkyTrain', 3768),\n",
       " ('LRT', 3658),\n",
       " ('McCallum', 267),\n",
       " ('CTV News', 915),\n",
       " ('SkyTrain', 1652),\n",
       " ('Surrey', 237),\n",
       " ('Langley', 1674),\n",
       " ('SkyTrain', 1652),\n",
       " ('LRT', 3658),\n",
       " ('Surrey', 237),\n",
       " ('SkyTrain', 1652),\n",
       " ('Evergreen Line', 5029),\n",
       " ('the Evergreen Line', 5288),\n",
       " ('the Evergreen Line', 5288),\n",
       " ('SkyTrain', 1652),\n",
       " ('McCallum', 267),\n",
       " ('LRT', 3658),\n",
       " ('Surrey', 237),\n",
       " ('SkyTrain', 1652),\n",
       " ('LRT', 3658),\n",
       " ('John Horgan', 5968),\n",
       " ('SkyTrain', 1652),\n",
       " ('Kevin Desmond', 6114),\n",
       " ('McCallum', 267),\n",
       " ('SkyTrain', 1652),\n",
       " ('the Mayors’ Council', 6320),\n",
       " ('LRT', 3658),\n",
       " ('The Mayors’ Council', 6467),\n",
       " ('Fleetwood', 6610),\n",
       " ('SkyTrain', 1652),\n",
       " ('Telford', 2712),\n",
       " ('Overstating Surrey’s', 7120),\n",
       " ('McCallum', 267),\n",
       " ('Surrey', 237),\n",
       " ('Surrey', 237),\n",
       " ('McCallum’s', 330),\n",
       " ('McCallum', 267),\n",
       " ('General Capital Program', 8245),\n",
       " ('McCallum', 267),\n",
       " ('McCallum’s', 330),\n",
       " ('RCMP', 8799),\n",
       " ('the Grandview Heights Library and', 8824),\n",
       " ('Community Centre', 1589),\n",
       " ('Surrey', 237),\n",
       " ('Safe Surrey', 9000),\n",
       " ('Cloverdale Sport and Ice Complex', 1350),\n",
       " ('McCallum', 267),\n",
       " ('Fleetwood', 6610),\n",
       " ('Bridgeview', 9506),\n",
       " ('Bridgeview', 9506),\n",
       " ('the North Surrey Arena', 9713),\n",
       " ('Bridgeview', 9506),\n",
       " ('Marty Jones', 10218),\n",
       " ('CTV News', 915),\n",
       " ('the Cloverdale Sport and Ice Complex', 10295),\n",
       " ('Cloverdale', 1350),\n",
       " ('McCallum', 267),\n",
       " ('Cloverdale', 1350),\n",
       " ('CTV News', 915),\n",
       " ('Surrey', 237),\n",
       " ('Cloverdale', 1350),\n",
       " ('CTV News', 915),\n",
       " ('CTV News', 915),\n",
       " ('Ice Allocation Committee', 12912),\n",
       " ('Cindy Secord', 13035),\n",
       " ('the Ice Allocation Committee', 13061),\n",
       " ('Secord', 13041),\n",
       " ('CTV News', 915),\n",
       " ('Surrey', 237),\n",
       " ('Surrey City Council', 13760)]"
      ]
     },
     "execution_count": 26,
     "metadata": {},
     "output_type": "execute_result"
    }
   ],
   "source": [
    "speakerindexlist"
   ]
  },
  {
   "cell_type": "code",
   "execution_count": 23,
   "id": "19686a71",
   "metadata": {},
   "outputs": [],
   "source": [
    "#gives a list of tuples with the quote and its index as values\n",
    "#again, there are some issues here\n",
    "#as in life, sextortion is a big problem\n",
    "#but the repeated ones are all overgeneralizations; actual quotes are unlikely to be repeated exactly\n",
    "quoteindexlist = []\n",
    "str_text = str(doc1)\n",
    "found_quotes = get_quotes(str_text)\n",
    "for quote in found_quotes:\n",
    "    quotecharindex = (quote, str_text.index(quote))\n",
    "    quoteindexlist.append(quotecharindex)"
   ]
  },
  {
   "cell_type": "code",
   "execution_count": 24,
   "id": "c6cb1e42",
   "metadata": {
    "scrolled": true
   },
   "outputs": [
    {
     "data": {
      "text/plain": [
       "[('I was clear when I was mayor – I don’t support Uber at all,', 171),\n",
       " ('It was a twinkle in some engineer’s eye some years ago.', 587),\n",
       " ('Mayor McCallum’s statements vary greatly from truth,', 2141),\n",
       " ('There’s a tried-and-true method in Canadian politics: after an election a new government takes office and says, ‘Oh my gosh, the cupboards are bare.’ Or, ‘We’re much deeper in debt than I thought we were, and now I’ve seen the real books.’ So I think there’s an element of that kind of gamesmanship going on,',\n",
       "  2343),\n",
       " ('Then there’s the fact that McCallum has been out of office for quite some time, thinking he knew the job, but some things have changed,',\n",
       "  2728),\n",
       " ('If you take Fraser Highway SkyTrain and if we’re building that seven days a week around the clock, we probably can save, and this is TransLink’s figures, we can probably save $2-300 million,',\n",
       "  3267),\n",
       " ('TransLink has not conducted any detailed study on potential construction methods for a SkyTrain route from Surrey to Langley. The most recent cost estimate (2017 Hatch report) did not consider construction schedules,',\n",
       "  4266),\n",
       " ('We’ve also said in the past if we let large construction jobs build seven days a week, around the clock, we can reduce costs considerably,',\n",
       "  4606),\n",
       " ('I’ve never said there’s a study.', 4829),\n",
       " ('The Evergreen Line that was recently built, same distance, elevated all the way, actually goes through a tunnel, completed a year and a half ago, for only $1.4 billion,',\n",
       "  5071),\n",
       " ('I care not about the technology. If Surrey wants to change to SkyTrain, that’s fine, but they’re going to get half as far as they would have with LRT,',\n",
       "  5816),\n",
       " ('I think he’s trying to present the best possible case that he can fulfill his promises without too much financial pain, and to put it generously, he’s reading the spreadsheets optimistically,',\n",
       "  6809),\n",
       " ('When the books were shown to me, I was deeply dismayed and shaken to the core to see how much debt the City of Surrey has been carrying,',\n",
       "  7266),\n",
       " ('The fact that the debt load is at $514 million is simply untenable and frankly irresponsible.',\n",
       "  7451),\n",
       " ('previously approved', 7769),\n",
       " ('previously approved', 7769),\n",
       " ('internal debt approved for the 2018-2022 General Capital Program.', 8204),\n",
       " ('The city’s debt as far as the City of Surrey is $514 million, that’s in the financial statements, in the public documents that have gone out. I’ve never misstated that debt. So that’s there. We’ve passed a draft budget. It takes into consideration the very large debt that we need to bring down.',\n",
       "  8355),\n",
       " ('We have one ice rink in South Surrey, we have one in Cloverdale, we have three in Fleetwood which is only 10 minutes from Cloverdale. We have one in Newton, and we have two in our city centre. We have three opening brand new in the middle of next year in Bridgeview, by the Patullo Bridge. We have the three new ones coming along with the current ones,',\n",
       "  9251),\n",
       " ('We found that a little bit misleading, they were talking about all the new arenas, but in reality we won’t be gaining three. Two of the arenas will be taken away. You’re only getting one new rink,',\n",
       "  9974),\n",
       " ('The land underneath is very unstable. Our engineering department says we would not be able to build this on unstable ground unless we used pile driving techniques to build it. Pile driving if anyone knows construction is very expensive construction. Originally it was planned to be $45 million, but that would increase considerably if we had to pile drive it.',\n",
       "  10481),\n",
       " ('We have in the last eight to nine years had a declining use of ice for hockey. Each year it’s declining in participation and usage. We have a chart of that to show you,',\n",
       "  11749),\n",
       " ('I know that our arenas are used more than what’s listed in that graph,',\n",
       "  12958),\n",
       " ('That graph should go in the other direction.', 13092),\n",
       " ('We could not supply one sheet of ice for them for any games all year,',\n",
       "  13300),\n",
       " ('We’re turning away potential users because there’s nothing there.', 13382),\n",
       " ('There are many possible reasons why the 2018 numbers appear low which may include waitlist accommodation, adding teaching stations, waitlist management. The numbers are being run from our stored data is not being modified.',\n",
       "  13497)]"
      ]
     },
     "execution_count": 24,
     "metadata": {},
     "output_type": "execute_result"
    }
   ],
   "source": [
    "quoteindexlist"
   ]
  },
  {
   "cell_type": "code",
   "execution_count": 29,
   "id": "93e9c7bf",
   "metadata": {},
   "outputs": [],
   "source": [
    "#this function takes an indexed quote, iterates through index potential speakers,\n",
    "#and finds the speaker with the index closest to the quote's index\n",
    "#credit to ChatGPT for correcting my code block\n",
    "def findnearestspeaker(quote, speakers):\n",
    "    #this is what my attempts were missing\n",
    "    #I was trying to iterate through the indices but integers aren't iterable\n",
    "    quoteinteger = quote[1]\n",
    "    #ChatGPT also added these lines, which I wouldn't have known to do\n",
    "    nearestspeakername = None\n",
    "    mindifference = float('inf')  # Initialize with positive infinity\n",
    "    #I had figured out the abs(speakerindex - quoteindex) part, but ChatGPT made it run properly\n",
    "    #mainly by using an if statement instead of min(), which was what I was trying to do\n",
    "    for speaker in speakers:\n",
    "        difference = abs(speaker[1] - quoteinteger)\n",
    "        # Check if the current speaker is closer than the previously found closest speaker\n",
    "        if difference < mindifference:\n",
    "            mindifference = difference\n",
    "            nearestspeakername = speaker\n",
    "    return nearestspeakername"
   ]
  },
  {
   "cell_type": "code",
   "execution_count": 30,
   "id": "fe451649",
   "metadata": {},
   "outputs": [
    {
     "name": "stdout",
     "output_type": "stream",
     "text": [
      "Uber : I was clear when I was mayor – I don’t support Uber at all,\n",
      "Bruce Hayne : It was a twinkle in some engineer’s eye some years ago.\n",
      "Cindy Dalglish : Mayor McCallum’s statements vary greatly from truth,\n",
      "Cindy Dalglish : There’s a tried-and-true method in Canadian politics: after an election a new government takes office and says, ‘Oh my gosh, the cupboards are bare.’ Or, ‘We’re much deeper in debt than I thought we were, and now I’ve seen the real books.’ So I think there’s an element of that kind of gamesmanship going on,\n",
      "Telford : Then there’s the fact that McCallum has been out of office for quite some time, thinking he knew the job, but some things have changed,\n",
      "the Mayors Council : If you take Fraser Highway SkyTrain and if we’re building that seven days a week around the clock, we probably can save, and this is TransLink’s figures, we can probably save $2-300 million,\n",
      "Langley SkyTrain : TransLink has not conducted any detailed study on potential construction methods for a SkyTrain route from Surrey to Langley. The most recent cost estimate (2017 Hatch report) did not consider construction schedules,\n",
      "Evergreen Line : We’ve also said in the past if we let large construction jobs build seven days a week, around the clock, we can reduce costs considerably,\n",
      "Evergreen Line : I’ve never said there’s a study.\n",
      "Evergreen Line : The Evergreen Line that was recently built, same distance, elevated all the way, actually goes through a tunnel, completed a year and a half ago, for only $1.4 billion,\n",
      "John Horgan : I care not about the technology. If Surrey wants to change to SkyTrain, that’s fine, but they’re going to get half as far as they would have with LRT,\n",
      "Fleetwood : I think he’s trying to present the best possible case that he can fulfill his promises without too much financial pain, and to put it generously, he’s reading the spreadsheets optimistically,\n",
      "Overstating Surrey’s : When the books were shown to me, I was deeply dismayed and shaken to the core to see how much debt the City of Surrey has been carrying,\n",
      "Overstating Surrey’s : The fact that the debt load is at $514 million is simply untenable and frankly irresponsible.\n",
      "General Capital Program : previously approved\n",
      "General Capital Program : previously approved\n",
      "General Capital Program : internal debt approved for the 2018-2022 General Capital Program.\n",
      "General Capital Program : The city’s debt as far as the City of Surrey is $514 million, that’s in the financial statements, in the public documents that have gone out. I’ve never misstated that debt. So that’s there. We’ve passed a draft budget. It takes into consideration the very large debt that we need to bring down.\n",
      "Safe Surrey : We have one ice rink in South Surrey, we have one in Cloverdale, we have three in Fleetwood which is only 10 minutes from Cloverdale. We have one in Newton, and we have two in our city centre. We have three opening brand new in the middle of next year in Bridgeview, by the Patullo Bridge. We have the three new ones coming along with the current ones,\n",
      "Marty Jones : We found that a little bit misleading, they were talking about all the new arenas, but in reality we won’t be gaining three. Two of the arenas will be taken away. You’re only getting one new rink,\n",
      "the Cloverdale Sport and Ice Complex : The land underneath is very unstable. Our engineering department says we would not be able to build this on unstable ground unless we used pile driving techniques to build it. Pile driving if anyone knows construction is very expensive construction. Originally it was planned to be $45 million, but that would increase considerably if we had to pile drive it.\n",
      "Ice Allocation Committee : We have in the last eight to nine years had a declining use of ice for hockey. Each year it’s declining in participation and usage. We have a chart of that to show you,\n",
      "Ice Allocation Committee : I know that our arenas are used more than what’s listed in that graph,\n",
      "the Ice Allocation Committee : That graph should go in the other direction.\n",
      "the Ice Allocation Committee : We could not supply one sheet of ice for them for any games all year,\n",
      "the Ice Allocation Committee : We’re turning away potential users because there’s nothing there.\n",
      "Surrey City Council : There are many possible reasons why the 2018 numbers appear low which may include waitlist accommodation, adding teaching stations, waitlist management. The numbers are being run from our stored data is not being modified.\n"
     ]
    }
   ],
   "source": [
    "#this is a very crude way of finding the speaker\n",
    "#given a quote and a list of potential speakers (people and orgs, as recognized by spaCy)\n",
    "#it finds the speaker nearest to the quote\n",
    "#regex works really well for finding direct quotes because it matches exact strings\n",
    "#but it's not well-suited to a task like this that requires more meta-knowledge of the text\n",
    "for quote in quoteindexlist:\n",
    "    nearestspeaker = findnearestspeaker(quote, speakerindexlist)\n",
    "    print(nearestspeaker[0], \":\", quote[0])"
   ]
  }
 ],
 "metadata": {
  "kernelspec": {
   "display_name": "Python 3 (ipykernel)",
   "language": "python",
   "name": "python3"
  },
  "language_info": {
   "codemirror_mode": {
    "name": "ipython",
    "version": 3
   },
   "file_extension": ".py",
   "mimetype": "text/x-python",
   "name": "python",
   "nbconvert_exporter": "python",
   "pygments_lexer": "ipython3",
   "version": "3.11.5"
  }
 },
 "nbformat": 4,
 "nbformat_minor": 5
}
