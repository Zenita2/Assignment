{
 "cells": [
  {
   "cell_type": "code",
   "execution_count": 1,
   "id": "62c4317f",
   "metadata": {},
   "outputs": [],
   "source": [
    "#import modules\n",
    "import spacy\n",
    "import re\n",
    "from spacy.matcher import Matcher\n",
    "nlp = spacy.load(\"en_core_web_sm\")\n",
    "matcher = Matcher(nlp.vocab)"
   ]
  },
  {
   "cell_type": "code",
   "execution_count": 2,
   "id": "f8096224",
   "metadata": {},
   "outputs": [
    {
     "data": {
      "text/plain": [
       "['texts/5c1452701e67d78e276ee126.txt',\n",
       " 'texts/5c146e42795bd2fcce2ea8e5.txt',\n",
       " 'texts/5c149ffc1e67d78e276fbd44.txt',\n",
       " 'texts/5c15488f1e67d78e277161d7.txt',\n",
       " 'texts/5c1548a31e67d78e2771624f.txt']"
      ]
     },
     "execution_count": 2,
     "metadata": {},
     "output_type": "execute_result"
    }
   ],
   "source": [
    "#save file paths\n",
    "import os\n",
    "fileids = os.listdir(\"texts\")\n",
    "fileids = [(\"texts/\" + fileid) for fileid in fileids]\n",
    "fileids"
   ]
  },
  {
   "cell_type": "code",
   "execution_count": 3,
   "id": "f710756d",
   "metadata": {},
   "outputs": [],
   "source": [
    "#open and merge files\n",
    "textlist = []\n",
    "for fileid in fileids:\n",
    "    with open (fileid, mode =\"r\", encoding = \"utf-8\") as f:\n",
    "        text = f.read()\n",
    "        textlist.append(text)\n",
    "textstring = str(textlist)"
   ]
  },
  {
   "cell_type": "code",
   "execution_count": 4,
   "id": "cb9f1d42",
   "metadata": {},
   "outputs": [],
   "source": [
    "#standardize quotation marks and remove html\n",
    "pipeline = [('“', '\"'), ('´´', '\"'), ('”', '\"'), ('’’', '\"')]\n",
    "for old, new in pipeline:\n",
    "    textstring = textstring.replace(old, new)\n",
    "textstring = textstring.replace(\"\\\\n\", \"\")\n",
    "textstring = textstring.replace(\"\\'\", \"\")"
   ]
  },
  {
   "cell_type": "code",
   "execution_count": null,
   "id": "5081fd22",
   "metadata": {},
   "outputs": [],
   "source": [
    "textstring"
   ]
  },
  {
   "cell_type": "code",
   "execution_count": 5,
   "id": "c72aa064",
   "metadata": {},
   "outputs": [],
   "source": [
    "#nlp & sentences function\n",
    "def find_sents(text):\n",
    "    doc = nlp(text)\n",
    "    sentences = list(doc.sents)\n",
    "    return(sentences)"
   ]
  },
  {
   "cell_type": "code",
   "execution_count": 6,
   "id": "18f7d5dd",
   "metadata": {},
   "outputs": [],
   "source": [
    "#quotes function\n",
    "def get_quotes(text):\n",
    "    quotes = re.findall(r' \"(.*?)\"', text)\n",
    "    return(quotes)"
   ]
  },
  {
   "cell_type": "code",
   "execution_count": 7,
   "id": "3b2dd8f2",
   "metadata": {},
   "outputs": [],
   "source": [
    "#call functions\n",
    "found_sents = find_sents(textstring)"
   ]
  },
  {
   "cell_type": "code",
   "execution_count": null,
   "id": "ee8232b9",
   "metadata": {},
   "outputs": [],
   "source": [
    "found_sents"
   ]
  },
  {
   "cell_type": "code",
   "execution_count": null,
   "id": "daee357c",
   "metadata": {},
   "outputs": [],
   "source": [
    "#print quotes\n",
    "for sent in found_sents:\n",
    "    str_sent = str(sent)\n",
    "    found_quotes = get_quotes(str_sent)\n",
    "    if len(found_quotes) > 0:\n",
    "        print(found_quotes)"
   ]
  },
  {
   "cell_type": "code",
   "execution_count": 8,
   "id": "c5de789d",
   "metadata": {},
   "outputs": [
    {
     "name": "stdout",
     "output_type": "stream",
     "text": [
      "['It was a twinkle in some engineer’s eye some years ago.']\n",
      "['I’ve never said there’s a study.']\n",
      "['previously approved']\n",
      "['previously approved', 'internal debt approved for the 2018-2022 General Capital Program.']\n",
      "['playing games']\n",
      "['was clearly adopted to frustrate the applicants and not – as suggested – out of concern to maintain privacy.']\n",
      "['JAZZ.FM91 will respect the order of the Court.']\n",
      "['tossing roadblocks in the way of democracy,', 'it would be sending the wrong message']\n",
      "['sextortion']\n",
      "['sextortion']\n",
      "['innovation', 'sextortion']\n",
      "['explode.']\n",
      "['pay up and pollute all you want']\n",
      "['While Conservatives fiddle, the planet burns!']\n",
      "['goal post']\n",
      "['road map', 'should move to skills-based hiring,', 'practices that prioritize … credentials and experience.']\n"
     ]
    }
   ],
   "source": [
    "#print quotes and save as .txt file\n",
    "for sent in found_sents:\n",
    "    str_sent = str(sent)\n",
    "    found_quotes = get_quotes(str_sent)\n",
    "    if len(found_quotes) > 0:\n",
    "        print(found_quotes)\n",
    "    with open (\"approach1output.txt\", \"a\") as x:\n",
    "        for quote in found_quotes:\n",
    "            print(quote, file = x)"
   ]
  },
  {
   "cell_type": "code",
   "execution_count": null,
   "id": "7f66836a",
   "metadata": {},
   "outputs": [],
   "source": []
  }
 ],
 "metadata": {
  "kernelspec": {
   "display_name": "Python 3 (ipykernel)",
   "language": "python",
   "name": "python3"
  },
  "language_info": {
   "codemirror_mode": {
    "name": "ipython",
    "version": 3
   },
   "file_extension": ".py",
   "mimetype": "text/x-python",
   "name": "python",
   "nbconvert_exporter": "python",
   "pygments_lexer": "ipython3",
   "version": "3.11.5"
  }
 },
 "nbformat": 4,
 "nbformat_minor": 5
}
